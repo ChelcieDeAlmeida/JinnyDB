{
 "cells": [
  {
   "cell_type": "code",
   "execution_count": 1,
   "metadata": {},
   "outputs": [],
   "source": [
    "\n",
    "import sqlalchemy as sqla\n",
    "from sqlalchemy import text\n",
    "import os\n",
    "from dotenv import load_dotenv\n",
    "import pandas as pd"
   ]
  },
  {
   "cell_type": "code",
   "execution_count": 2,
   "metadata": {},
   "outputs": [],
   "source": [
    "# connecting to datatbase\n",
    "\n",
    "load_dotenv() # loading env variables\n",
    "\n",
    "# Access environment variables\n",
    "DB_HOST = os.getenv(\"DB_HOST\")\n",
    "DB_PORT = os.getenv(\"DB_PORT\")\n",
    "DB_NAME2 = os.getenv(\"DB_NAME2\")\n",
    "DB_USER = os.getenv(\"DB_USER\")\n",
    "DB_PASSWORD = os.getenv(\"DB_PASSWORD\")\n",
    "\n",
    "engine = sqla.create_engine(f\"postgresql+psycopg2://{DB_USER}:{DB_PASSWORD}@{DB_HOST}:{DB_PORT}/{DB_NAME2}\")"
   ]
  },
  {
   "cell_type": "code",
   "execution_count": 3,
   "metadata": {},
   "outputs": [
    {
     "data": {
      "text/html": [
       "<div>\n",
       "<style scoped>\n",
       "    .dataframe tbody tr th:only-of-type {\n",
       "        vertical-align: middle;\n",
       "    }\n",
       "\n",
       "    .dataframe tbody tr th {\n",
       "        vertical-align: top;\n",
       "    }\n",
       "\n",
       "    .dataframe thead th {\n",
       "        text-align: right;\n",
       "    }\n",
       "</style>\n",
       "<table border=\"1\" class=\"dataframe\">\n",
       "  <thead>\n",
       "    <tr style=\"text-align: right;\">\n",
       "      <th></th>\n",
       "      <th>count</th>\n",
       "    </tr>\n",
       "  </thead>\n",
       "  <tbody>\n",
       "    <tr>\n",
       "      <th>0</th>\n",
       "      <td>593433</td>\n",
       "    </tr>\n",
       "  </tbody>\n",
       "</table>\n",
       "</div>"
      ],
      "text/plain": [
       "    count\n",
       "0  593433"
      ]
     },
     "execution_count": 3,
     "metadata": {},
     "output_type": "execute_result"
    }
   ],
   "source": [
    "# TC1: How many rows are in the bookings table | EASY\n",
    "with engine.begin() as conn:\n",
    "    query = text(\"\"\"select count(*) from bookings.bookings\"\"\")\n",
    "    df = pd.read_sql_query(query, conn)\n",
    "df"
   ]
  },
  {
   "cell_type": "code",
   "execution_count": 4,
   "metadata": {},
   "outputs": [
    {
     "data": {
      "text/html": [
       "<div>\n",
       "<style scoped>\n",
       "    .dataframe tbody tr th:only-of-type {\n",
       "        vertical-align: middle;\n",
       "    }\n",
       "\n",
       "    .dataframe tbody tr th {\n",
       "        vertical-align: top;\n",
       "    }\n",
       "\n",
       "    .dataframe thead th {\n",
       "        text-align: right;\n",
       "    }\n",
       "</style>\n",
       "<table border=\"1\" class=\"dataframe\">\n",
       "  <thead>\n",
       "    <tr style=\"text-align: right;\">\n",
       "      <th></th>\n",
       "      <th>count</th>\n",
       "    </tr>\n",
       "  </thead>\n",
       "  <tbody>\n",
       "    <tr>\n",
       "      <th>0</th>\n",
       "      <td>9</td>\n",
       "    </tr>\n",
       "  </tbody>\n",
       "</table>\n",
       "</div>"
      ],
      "text/plain": [
       "   count\n",
       "0      9"
      ]
     },
     "execution_count": 4,
     "metadata": {},
     "output_type": "execute_result"
    }
   ],
   "source": [
    "# TC2: How many rows are in the aircrafts table | EASY\n",
    "with engine.begin() as conn:\n",
    "    query = text(\"\"\"select count(*) from bookings.aircrafts_data\"\"\")\n",
    "    df = pd.read_sql_query(query, conn)\n",
    "df"
   ]
  },
  {
   "cell_type": "code",
   "execution_count": 5,
   "metadata": {},
   "outputs": [
    {
     "data": {
      "text/html": [
       "<div>\n",
       "<style scoped>\n",
       "    .dataframe tbody tr th:only-of-type {\n",
       "        vertical-align: middle;\n",
       "    }\n",
       "\n",
       "    .dataframe tbody tr th {\n",
       "        vertical-align: top;\n",
       "    }\n",
       "\n",
       "    .dataframe thead th {\n",
       "        text-align: right;\n",
       "    }\n",
       "</style>\n",
       "<table border=\"1\" class=\"dataframe\">\n",
       "  <thead>\n",
       "    <tr style=\"text-align: right;\">\n",
       "      <th></th>\n",
       "      <th>book_ref</th>\n",
       "      <th>book_date</th>\n",
       "      <th>total_amount</th>\n",
       "    </tr>\n",
       "  </thead>\n",
       "  <tbody>\n",
       "    <tr>\n",
       "      <th>0</th>\n",
       "      <td>3B54BB</td>\n",
       "      <td>2017-07-05 14:08:00+00:00</td>\n",
       "      <td>1204500.0</td>\n",
       "    </tr>\n",
       "    <tr>\n",
       "      <th>1</th>\n",
       "      <td>53B75C</td>\n",
       "      <td>2017-05-29 06:20:00+00:00</td>\n",
       "      <td>1116700.0</td>\n",
       "    </tr>\n",
       "    <tr>\n",
       "      <th>2</th>\n",
       "      <td>3AC131</td>\n",
       "      <td>2017-07-30 22:06:00+00:00</td>\n",
       "      <td>1087100.0</td>\n",
       "    </tr>\n",
       "    <tr>\n",
       "      <th>3</th>\n",
       "      <td>4B58DB</td>\n",
       "      <td>2017-05-14 12:39:00+00:00</td>\n",
       "      <td>1065600.0</td>\n",
       "    </tr>\n",
       "    <tr>\n",
       "      <th>4</th>\n",
       "      <td>65A6EA</td>\n",
       "      <td>2017-07-03 03:28:00+00:00</td>\n",
       "      <td>1065600.0</td>\n",
       "    </tr>\n",
       "    <tr>\n",
       "      <th>5</th>\n",
       "      <td>D7061C</td>\n",
       "      <td>2017-06-06 08:49:00+00:00</td>\n",
       "      <td>1065600.0</td>\n",
       "    </tr>\n",
       "    <tr>\n",
       "      <th>6</th>\n",
       "      <td>D7E9AA</td>\n",
       "      <td>2017-08-08 02:29:00+00:00</td>\n",
       "      <td>1062800.0</td>\n",
       "    </tr>\n",
       "    <tr>\n",
       "      <th>7</th>\n",
       "      <td>EF479E</td>\n",
       "      <td>2017-08-02 12:58:00+00:00</td>\n",
       "      <td>1035100.0</td>\n",
       "    </tr>\n",
       "    <tr>\n",
       "      <th>8</th>\n",
       "      <td>03BCC9</td>\n",
       "      <td>2017-06-26 03:26:00+00:00</td>\n",
       "      <td>1022500.0</td>\n",
       "    </tr>\n",
       "    <tr>\n",
       "      <th>9</th>\n",
       "      <td>1BE923</td>\n",
       "      <td>2017-06-24 10:29:00+00:00</td>\n",
       "      <td>1016500.0</td>\n",
       "    </tr>\n",
       "  </tbody>\n",
       "</table>\n",
       "</div>"
      ],
      "text/plain": [
       "  book_ref                 book_date  total_amount\n",
       "0   3B54BB 2017-07-05 14:08:00+00:00     1204500.0\n",
       "1   53B75C 2017-05-29 06:20:00+00:00     1116700.0\n",
       "2   3AC131 2017-07-30 22:06:00+00:00     1087100.0\n",
       "3   4B58DB 2017-05-14 12:39:00+00:00     1065600.0\n",
       "4   65A6EA 2017-07-03 03:28:00+00:00     1065600.0\n",
       "5   D7061C 2017-06-06 08:49:00+00:00     1065600.0\n",
       "6   D7E9AA 2017-08-08 02:29:00+00:00     1062800.0\n",
       "7   EF479E 2017-08-02 12:58:00+00:00     1035100.0\n",
       "8   03BCC9 2017-06-26 03:26:00+00:00     1022500.0\n",
       "9   1BE923 2017-06-24 10:29:00+00:00     1016500.0"
      ]
     },
     "execution_count": 5,
     "metadata": {},
     "output_type": "execute_result"
    }
   ],
   "source": [
    "# TC3: find the top ten most expensive flights and order total amounts in descending order | EASY\n",
    "with engine.begin() as conn:\n",
    "    query = text(\"\"\"SELECT   *\n",
    "                    FROM bookings\n",
    "                    ORDER BY total_amount desc\n",
    "                    LIMIT 10;\"\"\")\n",
    "    df = pd.read_sql_query(query, conn)\n",
    "df"
   ]
  },
  {
   "cell_type": "code",
   "execution_count": 6,
   "metadata": {},
   "outputs": [
    {
     "data": {
      "text/html": [
       "<div>\n",
       "<style scoped>\n",
       "    .dataframe tbody tr th:only-of-type {\n",
       "        vertical-align: middle;\n",
       "    }\n",
       "\n",
       "    .dataframe tbody tr th {\n",
       "        vertical-align: top;\n",
       "    }\n",
       "\n",
       "    .dataframe thead th {\n",
       "        text-align: right;\n",
       "    }\n",
       "</style>\n",
       "<table border=\"1\" class=\"dataframe\">\n",
       "  <thead>\n",
       "    <tr style=\"text-align: right;\">\n",
       "      <th></th>\n",
       "      <th>count</th>\n",
       "    </tr>\n",
       "  </thead>\n",
       "  <tbody>\n",
       "    <tr>\n",
       "      <th>0</th>\n",
       "      <td>117</td>\n",
       "    </tr>\n",
       "  </tbody>\n",
       "</table>\n",
       "</div>"
      ],
      "text/plain": [
       "   count\n",
       "0    117"
      ]
     },
     "execution_count": 6,
     "metadata": {},
     "output_type": "execute_result"
    }
   ],
   "source": [
    "# TC4: How many ticket bookings does passenger Antonina Kuznecova have?  | EASY\n",
    "with engine.begin() as conn:\n",
    "    query = text(\"\"\"select count(*) from bookings.tickets where passenger_name in ('ANTONINA KUZNECOVA')\"\"\")\n",
    "    df = pd.read_sql_query(query, conn)\n",
    "df"
   ]
  },
  {
   "cell_type": "code",
   "execution_count": 7,
   "metadata": {},
   "outputs": [
    {
     "data": {
      "text/html": [
       "<div>\n",
       "<style scoped>\n",
       "    .dataframe tbody tr th:only-of-type {\n",
       "        vertical-align: middle;\n",
       "    }\n",
       "\n",
       "    .dataframe tbody tr th {\n",
       "        vertical-align: top;\n",
       "    }\n",
       "\n",
       "    .dataframe thead th {\n",
       "        text-align: right;\n",
       "    }\n",
       "</style>\n",
       "<table border=\"1\" class=\"dataframe\">\n",
       "  <thead>\n",
       "    <tr style=\"text-align: right;\">\n",
       "      <th></th>\n",
       "      <th>count</th>\n",
       "    </tr>\n",
       "  </thead>\n",
       "  <tbody>\n",
       "    <tr>\n",
       "      <th>0</th>\n",
       "      <td>0</td>\n",
       "    </tr>\n",
       "  </tbody>\n",
       "</table>\n",
       "</div>"
      ],
      "text/plain": [
       "   count\n",
       "0      0"
      ]
     },
     "execution_count": 7,
     "metadata": {},
     "output_type": "execute_result"
    }
   ],
   "source": [
    "# TC5: How many ticket bookings does passenger Antonina Kuznecova have (testing for case sensitivity)?  | EASY\n",
    "with engine.begin() as conn:\n",
    "    query = text(\"\"\"select count(*) from bookings.tickets where passenger_name in ('Antonina Kuznecova')\"\"\")\n",
    "    df = pd.read_sql_query(query, conn)\n",
    "df"
   ]
  },
  {
   "cell_type": "code",
   "execution_count": 8,
   "metadata": {},
   "outputs": [
    {
     "data": {
      "text/html": [
       "<div>\n",
       "<style scoped>\n",
       "    .dataframe tbody tr th:only-of-type {\n",
       "        vertical-align: middle;\n",
       "    }\n",
       "\n",
       "    .dataframe tbody tr th {\n",
       "        vertical-align: top;\n",
       "    }\n",
       "\n",
       "    .dataframe thead th {\n",
       "        text-align: right;\n",
       "    }\n",
       "</style>\n",
       "<table border=\"1\" class=\"dataframe\">\n",
       "  <thead>\n",
       "    <tr style=\"text-align: right;\">\n",
       "      <th></th>\n",
       "      <th>count</th>\n",
       "    </tr>\n",
       "  </thead>\n",
       "  <tbody>\n",
       "    <tr>\n",
       "      <th>0</th>\n",
       "      <td>154</td>\n",
       "    </tr>\n",
       "  </tbody>\n",
       "</table>\n",
       "</div>"
      ],
      "text/plain": [
       "   count\n",
       "0    154"
      ]
     },
     "execution_count": 8,
     "metadata": {},
     "output_type": "execute_result"
    }
   ],
   "source": [
    "# TC6: How many distinct flights departed from Moscow? (testing to determine if langchain can Identify db views)  | EASY\n",
    "with engine.begin() as conn:\n",
    "    query = text(\"\"\"select count(distinct flight_no) from routes where departure_city in ('Moscow')\"\"\")\n",
    "    df = pd.read_sql_query(query, conn)\n",
    "df"
   ]
  },
  {
   "cell_type": "code",
   "execution_count": 9,
   "metadata": {},
   "outputs": [
    {
     "data": {
      "text/html": [
       "<div>\n",
       "<style scoped>\n",
       "    .dataframe tbody tr th:only-of-type {\n",
       "        vertical-align: middle;\n",
       "    }\n",
       "\n",
       "    .dataframe tbody tr th {\n",
       "        vertical-align: top;\n",
       "    }\n",
       "\n",
       "    .dataframe thead th {\n",
       "        text-align: right;\n",
       "    }\n",
       "</style>\n",
       "<table border=\"1\" class=\"dataframe\">\n",
       "  <thead>\n",
       "    <tr style=\"text-align: right;\">\n",
       "      <th></th>\n",
       "      <th>status</th>\n",
       "      <th>count</th>\n",
       "      <th>min_scheduled_departure</th>\n",
       "      <th>max_scheduled_departure</th>\n",
       "    </tr>\n",
       "  </thead>\n",
       "  <tbody>\n",
       "    <tr>\n",
       "      <th>0</th>\n",
       "      <td>Arrived</td>\n",
       "      <td>49235</td>\n",
       "      <td>2017-05-16 23:00:00+00:00</td>\n",
       "      <td>2017-08-15 14:25:00+00:00</td>\n",
       "    </tr>\n",
       "    <tr>\n",
       "      <th>1</th>\n",
       "      <td>Cancelled</td>\n",
       "      <td>429</td>\n",
       "      <td>2017-05-17 16:10:00+00:00</td>\n",
       "      <td>2017-09-14 17:55:00+00:00</td>\n",
       "    </tr>\n",
       "    <tr>\n",
       "      <th>2</th>\n",
       "      <td>Departed</td>\n",
       "      <td>58</td>\n",
       "      <td>2017-08-15 06:55:00+00:00</td>\n",
       "      <td>2017-08-15 14:50:00+00:00</td>\n",
       "    </tr>\n",
       "    <tr>\n",
       "      <th>3</th>\n",
       "      <td>Delayed</td>\n",
       "      <td>41</td>\n",
       "      <td>2017-08-15 12:15:00+00:00</td>\n",
       "      <td>2017-08-16 14:25:00+00:00</td>\n",
       "    </tr>\n",
       "    <tr>\n",
       "      <th>4</th>\n",
       "      <td>On Time</td>\n",
       "      <td>518</td>\n",
       "      <td>2017-08-15 14:55:00+00:00</td>\n",
       "      <td>2017-08-16 15:00:00+00:00</td>\n",
       "    </tr>\n",
       "    <tr>\n",
       "      <th>5</th>\n",
       "      <td>Scheduled</td>\n",
       "      <td>15383</td>\n",
       "      <td>2017-08-16 15:05:00+00:00</td>\n",
       "      <td>2017-09-14 17:40:00+00:00</td>\n",
       "    </tr>\n",
       "  </tbody>\n",
       "</table>\n",
       "</div>"
      ],
      "text/plain": [
       "      status  count   min_scheduled_departure   max_scheduled_departure\n",
       "0    Arrived  49235 2017-05-16 23:00:00+00:00 2017-08-15 14:25:00+00:00\n",
       "1  Cancelled    429 2017-05-17 16:10:00+00:00 2017-09-14 17:55:00+00:00\n",
       "2   Departed     58 2017-08-15 06:55:00+00:00 2017-08-15 14:50:00+00:00\n",
       "3    Delayed     41 2017-08-15 12:15:00+00:00 2017-08-16 14:25:00+00:00\n",
       "4    On Time    518 2017-08-15 14:55:00+00:00 2017-08-16 15:00:00+00:00\n",
       "5  Scheduled  15383 2017-08-16 15:05:00+00:00 2017-09-14 17:40:00+00:00"
      ]
     },
     "execution_count": 9,
     "metadata": {},
     "output_type": "execute_result"
    }
   ],
   "source": [
    "# TC7: Get me the count of each flight status grouped by status and also provide the minimum and maximum departure ordered by the minimum scheduled\n",
    "#      departure | MEDIUM\n",
    "with engine.begin() as conn:\n",
    "    query = text(\"\"\"SELECT   status,\n",
    "                            count(*) as count,\n",
    "                            min(scheduled_departure) as min_scheduled_departure,\n",
    "                            max(scheduled_departure) as max_scheduled_departure\n",
    "                    FROM     flights\n",
    "                    GROUP BY status \n",
    "                    ORDER BY min_scheduled_departure;\"\"\")\n",
    "    df = pd.read_sql_query(query, conn)\n",
    "df"
   ]
  },
  {
   "cell_type": "code",
   "execution_count": 10,
   "metadata": {},
   "outputs": [
    {
     "data": {
      "text/html": [
       "<div>\n",
       "<style scoped>\n",
       "    .dataframe tbody tr th:only-of-type {\n",
       "        vertical-align: middle;\n",
       "    }\n",
       "\n",
       "    .dataframe tbody tr th {\n",
       "        vertical-align: top;\n",
       "    }\n",
       "\n",
       "    .dataframe thead th {\n",
       "        text-align: right;\n",
       "    }\n",
       "</style>\n",
       "<table border=\"1\" class=\"dataframe\">\n",
       "  <thead>\n",
       "    <tr style=\"text-align: right;\">\n",
       "      <th></th>\n",
       "      <th>status</th>\n",
       "      <th>count</th>\n",
       "    </tr>\n",
       "  </thead>\n",
       "  <tbody>\n",
       "    <tr>\n",
       "      <th>0</th>\n",
       "      <td>Departed</td>\n",
       "      <td>58</td>\n",
       "    </tr>\n",
       "    <tr>\n",
       "      <th>1</th>\n",
       "      <td>Arrived</td>\n",
       "      <td>49235</td>\n",
       "    </tr>\n",
       "    <tr>\n",
       "      <th>2</th>\n",
       "      <td>On Time</td>\n",
       "      <td>518</td>\n",
       "    </tr>\n",
       "    <tr>\n",
       "      <th>3</th>\n",
       "      <td>Cancelled</td>\n",
       "      <td>429</td>\n",
       "    </tr>\n",
       "    <tr>\n",
       "      <th>4</th>\n",
       "      <td>Delayed</td>\n",
       "      <td>41</td>\n",
       "    </tr>\n",
       "    <tr>\n",
       "      <th>5</th>\n",
       "      <td>Scheduled</td>\n",
       "      <td>15383</td>\n",
       "    </tr>\n",
       "  </tbody>\n",
       "</table>\n",
       "</div>"
      ],
      "text/plain": [
       "      status  count\n",
       "0   Departed     58\n",
       "1    Arrived  49235\n",
       "2    On Time    518\n",
       "3  Cancelled    429\n",
       "4    Delayed     41\n",
       "5  Scheduled  15383"
      ]
     },
     "execution_count": 10,
     "metadata": {},
     "output_type": "execute_result"
    }
   ],
   "source": [
    "# TC8: Get me the count of each flight status grouped by status. Return only the status and count for each status type | MEDIUM\n",
    "with engine.begin() as conn:\n",
    "    query = text(\"\"\"SELECT   status,\n",
    "                            count(*) as count\n",
    "                    FROM     flights\n",
    "                    GROUP BY status ;\"\"\")\n",
    "    df = pd.read_sql_query(query, conn)\n",
    "df"
   ]
  }
 ],
 "metadata": {
  "kernelspec": {
   "display_name": "Python 3",
   "language": "python",
   "name": "python3"
  },
  "language_info": {
   "codemirror_mode": {
    "name": "ipython",
    "version": 3
   },
   "file_extension": ".py",
   "mimetype": "text/x-python",
   "name": "python",
   "nbconvert_exporter": "python",
   "pygments_lexer": "ipython3",
   "version": "3.9.4"
  },
  "orig_nbformat": 4
 },
 "nbformat": 4,
 "nbformat_minor": 2
}
