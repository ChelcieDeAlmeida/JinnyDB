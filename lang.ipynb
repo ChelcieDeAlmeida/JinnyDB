{
 "cells": [
  {
   "cell_type": "code",
   "execution_count": 19,
   "metadata": {},
   "outputs": [],
   "source": [
    "# importing libraries\n",
    "\n",
    "from langchain.agents import initialize_agent\n",
    "from langchain.agents import AgentType\n",
    "from langchain.llms import OpenAI\n",
    "from langchain.agents import *\n",
    "from langchain.sql_database import SQLDatabase\n",
    "from langchain.agents.agent_toolkits import SQLDatabaseToolkit\n",
    "from langchain.agents import AgentExecutor\n",
    "from langchain import OpenAI, SQLDatabaseChain\n",
    "from langchain import PromptTemplate, LLMChain\n",
    "from langchain import HuggingFacePipeline\n",
    "import sqlalchemy as sqla\n",
    "from sqlalchemy import text\n",
    "import pandas as pd\n",
    "import os\n",
    "from dotenv import load_dotenv\n",
    "from langchain.chat_models import ChatOpenAI\n",
    "import huggingface_hub\n",
    "from langchain import HuggingFaceHub\n",
    "from transformers import pipeline\n",
    "\n"
   ]
  },
  {
   "cell_type": "code",
   "execution_count": 21,
   "metadata": {},
   "outputs": [
    {
     "name": "stdout",
     "output_type": "stream",
     "text": [
      "Token will not been saved to git credential helper. Pass `add_to_git_credential=True` if you want to set the git credential as well.\n",
      "Token is valid (permission: read).\n",
      "Your token has been saved to /Users/chelciedealmeida/.cache/huggingface/token\n",
      "Login successful\n"
     ]
    },
    {
     "name": "stderr",
     "output_type": "stream",
     "text": [
      "/usr/local/lib/python3.9/site-packages/langchain/utilities/sql_database.py:111: SAWarning: Did not recognize type 'point' of column 'coordinates'\n",
      "  self._metadata.reflect(\n"
     ]
    }
   ],
   "source": [
    "# connect to datatbase\n",
    "load_dotenv()\n",
    "\n",
    "\n",
    "# Access environment variables\n",
    "DB_HOST = os.getenv(\"DB_HOST\")\n",
    "DB_PORT = os.getenv(\"DB_PORT\")\n",
    "DB_NAME = os.getenv(\"DB_NAME\")\n",
    "DB_NAME2 = os.getenv(\"DB_NAME2\")\n",
    "DB_USER = os.getenv(\"DB_USER\")\n",
    "DB_PASSWORD = os.getenv(\"DB_PASSWORD\")\n",
    "HF_KEY= os.getenv(\"HUGGINGFACEHUB_API_TOKEN\")\n",
    "OPENAI_API_KEY = os.getenv(\"OPENAI_API_KEY\")\n",
    "\n",
    "from huggingface_hub import login\n",
    "login(token=HF_KEY)\n",
    "\n",
    "\n",
    "db = SQLDatabase.from_uri(f\"postgresql+psycopg2://{DB_USER}:{DB_PASSWORD}@{DB_HOST}:{DB_PORT}/{DB_NAME}\")\n",
    "db2 = SQLDatabase.from_uri(f\"postgresql+psycopg2://{DB_USER}:{DB_PASSWORD}@{DB_HOST}:{DB_PORT}/{DB_NAME2}\")\n",
    "engine = sqla.create_engine(f\"postgresql+psycopg2://{DB_USER}:{DB_PASSWORD}@{DB_HOST}:{DB_PORT}/{DB_NAME}\")"
   ]
  },
  {
   "cell_type": "code",
   "execution_count": 22,
   "metadata": {},
   "outputs": [],
   "source": [
    "# Load model directly\n",
    "\n",
    "# llm = ChatOpenAI(model_name=\"gpt-3.5-turbo\")\n",
    "llm = ChatOpenAI(model_name=\"gpt-3.5-turbo\", temperature=0.1)\n",
    "\n",
    "toolkit = SQLDatabaseToolkit(db=db2, llm=llm)\n",
    "agent_executor = create_sql_agent(\n",
    "    llm=llm,\n",
    "    toolkit=toolkit,\n",
    "    verbose=True\n",
    ")\n",
    "\n"
   ]
  },
  {
   "cell_type": "code",
   "execution_count": 23,
   "metadata": {},
   "outputs": [
    {
     "name": "stdout",
     "output_type": "stream",
     "text": [
      "\n",
      "\n",
      "\u001b[1m> Entering new AgentExecutor chain...\u001b[0m\n",
      "\u001b[32;1m\u001b[1;3mAction: sql_db_list_tables\n",
      "Action Input: \"\"\u001b[0m\n",
      "Observation: \u001b[38;5;200m\u001b[1;3maircrafts_data, airports_data, boarding_passes, bookings, flights, seats, ticket_flights, tickets\u001b[0m\n",
      "Thought:\u001b[32;1m\u001b[1;3mThe relevant table for the bookings schema is \"bookings\". I should query the schema of this table.\n",
      "Action: sql_db_schema\n",
      "Action Input: \"bookings\"\u001b[0m\n",
      "Observation: \u001b[33;1m\u001b[1;3m\n",
      "CREATE TABLE bookings (\n",
      "\tbook_ref CHAR(6) NOT NULL, \n",
      "\tbook_date TIMESTAMP WITH TIME ZONE NOT NULL, \n",
      "\ttotal_amount NUMERIC(10, 2) NOT NULL, \n",
      "\tCONSTRAINT bookings_pkey PRIMARY KEY (book_ref)\n",
      ")\n",
      "\n",
      "/*\n",
      "3 rows from bookings table:\n",
      "book_ref\tbook_date\ttotal_amount\n",
      "00000F\t2017-07-04 17:12:00-07:00\t265700.00\n",
      "000012\t2017-07-13 23:02:00-07:00\t37900.00\n",
      "00002D\t2017-05-20 08:45:00-07:00\t114700.00\n",
      "*/\u001b[0m\n",
      "Thought:\u001b[32;1m\u001b[1;3mThe bookings schema consists of the following columns:\n",
      "- book_ref (CHAR(6))\n",
      "- book_date (TIMESTAMP WITH TIME ZONE)\n",
      "- total_amount (NUMERIC(10, 2))\n",
      "\n",
      "The table contains 3 rows with the following data:\n",
      "- book_ref: 00000F, book_date: 2017-07-04 17:12:00-07:00, total_amount: 265700.00\n",
      "- book_ref: 000012, book_date: 2017-07-13 23:02:00-07:00, total_amount: 37900.00\n",
      "- book_ref: 00002D, book_date: 2017-05-20 08:45:00-07:00, total_amount: 114700.00\n",
      "\n",
      "Final Answer: The bookings schema consists of the columns book_ref, book_date, and total_amount.\u001b[0m\n",
      "\n",
      "\u001b[1m> Finished chain.\u001b[0m\n"
     ]
    },
    {
     "data": {
      "text/plain": [
       "'The bookings schema consists of the columns book_ref, book_date, and total_amount.'"
      ]
     },
     "execution_count": 23,
     "metadata": {},
     "output_type": "execute_result"
    }
   ],
   "source": [
    "agent_executor.run(\"describe the bookings schema?\")\n"
   ]
  },
  {
   "cell_type": "code",
   "execution_count": 24,
   "metadata": {},
   "outputs": [
    {
     "name": "stdout",
     "output_type": "stream",
     "text": [
      "\n",
      "\n",
      "\u001b[1m> Entering new AgentExecutor chain...\u001b[0m\n",
      "\u001b[32;1m\u001b[1;3mAction: sql_db_list_tables\n",
      "Action Input: \"\"\u001b[0m\n",
      "Observation: \u001b[38;5;200m\u001b[1;3maircrafts_data, airports_data, boarding_passes, bookings, flights, seats, ticket_flights, tickets\u001b[0m\n",
      "Thought:\u001b[32;1m\u001b[1;3mThe \"flights\" table is available for querying.\n",
      "Action: sql_db_schema\n",
      "Action Input: \"flights\"\u001b[0m\n",
      "Observation: \u001b[33;1m\u001b[1;3m\n",
      "CREATE TABLE flights (\n",
      "\tflight_id SERIAL NOT NULL, \n",
      "\tflight_no CHAR(6) NOT NULL, \n",
      "\tscheduled_departure TIMESTAMP WITH TIME ZONE NOT NULL, \n",
      "\tscheduled_arrival TIMESTAMP WITH TIME ZONE NOT NULL, \n",
      "\tdeparture_airport CHAR(3) NOT NULL, \n",
      "\tarrival_airport CHAR(3) NOT NULL, \n",
      "\tstatus VARCHAR(20) NOT NULL, \n",
      "\taircraft_code CHAR(3) NOT NULL, \n",
      "\tactual_departure TIMESTAMP WITH TIME ZONE, \n",
      "\tactual_arrival TIMESTAMP WITH TIME ZONE, \n",
      "\tCONSTRAINT flights_pkey PRIMARY KEY (flight_id), \n",
      "\tCONSTRAINT flights_aircraft_code_fkey FOREIGN KEY(aircraft_code) REFERENCES aircrafts_data (aircraft_code), \n",
      "\tCONSTRAINT flights_arrival_airport_fkey FOREIGN KEY(arrival_airport) REFERENCES airports_data (airport_code), \n",
      "\tCONSTRAINT flights_departure_airport_fkey FOREIGN KEY(departure_airport) REFERENCES airports_data (airport_code), \n",
      "\tCONSTRAINT flights_flight_no_scheduled_departure_key UNIQUE (flight_no, scheduled_departure), \n",
      "\tCONSTRAINT flights_check CHECK (scheduled_arrival > scheduled_departure), \n",
      "\tCONSTRAINT flights_check1 CHECK (actual_arrival IS NULL OR actual_departure IS NOT NULL AND actual_arrival IS NOT NULL AND actual_arrival > actual_departure), \n",
      "\tCONSTRAINT flights_status_check CHECK (status::text = ANY (ARRAY['On Time'::character varying::text, 'Delayed'::character varying::text, 'Departed'::character varying::text, 'Arrived'::character varying::text, 'Scheduled'::character varying::text, 'Cancelled'::character varying::text]))\n",
      ")\n",
      "\n",
      "/*\n",
      "3 rows from flights table:\n",
      "flight_id\tflight_no\tscheduled_departure\tscheduled_arrival\tdeparture_airport\tarrival_airport\tstatus\taircraft_code\tactual_departure\tactual_arrival\n",
      "182\tPG0402\t2017-09-01 02:25:00-07:00\t2017-09-01 03:20:00-07:00\tDME\tLED\tScheduled\t321\tNone\tNone\n",
      "1996\tPG0335\t2017-08-25 23:30:00-07:00\t2017-08-26 01:35:00-07:00\tDME\tJOK\tScheduled\tCN1\tNone\tNone\n",
      "5979\tPG0384\t2017-08-26 02:10:00-07:00\t2017-08-26 02:40:00-07:00\tDME\tBZK\tScheduled\tSU9\tNone\tNone\n",
      "*/\u001b[0m\n",
      "Thought:\u001b[32;1m\u001b[1;3mThe flights table has the following columns: flight_id, flight_no, scheduled_departure, scheduled_arrival, departure_airport, arrival_airport, status, aircraft_code, actual_departure, and actual_arrival. It also has several constraints and foreign key references to other tables.\n",
      "Final Answer: The flights table has the following columns: flight_id, flight_no, scheduled_departure, scheduled_arrival, departure_airport, arrival_airport, status, aircraft_code, actual_departure, and actual_arrival.\u001b[0m\n",
      "\n",
      "\u001b[1m> Finished chain.\u001b[0m\n"
     ]
    },
    {
     "data": {
      "text/plain": [
       "'The flights table has the following columns: flight_id, flight_no, scheduled_departure, scheduled_arrival, departure_airport, arrival_airport, status, aircraft_code, actual_departure, and actual_arrival.'"
      ]
     },
     "execution_count": 24,
     "metadata": {},
     "output_type": "execute_result"
    }
   ],
   "source": [
    "agent_executor.run(\"describe the flights table?\")"
   ]
  },
  {
   "cell_type": "code",
   "execution_count": 25,
   "metadata": {},
   "outputs": [
    {
     "name": "stdout",
     "output_type": "stream",
     "text": [
      "\n",
      "\n",
      "\u001b[1m> Entering new AgentExecutor chain...\u001b[0m\n",
      "\u001b[32;1m\u001b[1;3mAction: sql_db_list_tables\n",
      "Action Input: \"\"\u001b[0m\n",
      "Observation: \u001b[38;5;200m\u001b[1;3maircrafts_data, airports_data, boarding_passes, bookings, flights, seats, ticket_flights, tickets\u001b[0m\n",
      "Thought:\u001b[32;1m\u001b[1;3mI can query the \"bookings\" table to get the number of rows.\n",
      "Action: sql_db_query\n",
      "Action Input: \"SELECT COUNT(*) FROM bookings\"\u001b[0m\n",
      "Observation: \u001b[36;1m\u001b[1;3m[(593433,)]\u001b[0m\n",
      "Thought:\u001b[32;1m\u001b[1;3mI now know the final answer.\n",
      "Final Answer: There are 593,433 rows in the bookings table.\u001b[0m\n",
      "\n",
      "\u001b[1m> Finished chain.\u001b[0m\n"
     ]
    },
    {
     "data": {
      "text/plain": [
       "'There are 593,433 rows in the bookings table.'"
      ]
     },
     "execution_count": 25,
     "metadata": {},
     "output_type": "execute_result"
    }
   ],
   "source": [
    "agent_executor.run(\"How many rows are in the bookings table?\")"
   ]
  },
  {
   "cell_type": "code",
   "execution_count": 26,
   "metadata": {},
   "outputs": [
    {
     "name": "stdout",
     "output_type": "stream",
     "text": [
      "\n",
      "\n",
      "\u001b[1m> Entering new AgentExecutor chain...\u001b[0m\n",
      "\u001b[32;1m\u001b[1;3mAction: sql_db_list_tables\n",
      "Action Input: \"\"\u001b[0m\n",
      "Observation: \u001b[38;5;200m\u001b[1;3maircrafts_data, airports_data, boarding_passes, bookings, flights, seats, ticket_flights, tickets\u001b[0m\n",
      "Thought:\u001b[32;1m\u001b[1;3mI can query the aircrafts_data table to count the number of rows.\n",
      "Action: sql_db_query\n",
      "Action Input: \"SELECT COUNT(*) FROM aircrafts_data\"\u001b[0m\n",
      "Observation: \u001b[36;1m\u001b[1;3m[(9,)]\u001b[0m\n",
      "Thought:\u001b[32;1m\u001b[1;3mI now know the final answer.\n",
      "Final Answer: There are 9 rows in the aircrafts_data table.\u001b[0m\n",
      "\n",
      "\u001b[1m> Finished chain.\u001b[0m\n"
     ]
    },
    {
     "data": {
      "text/plain": [
       "'There are 9 rows in the aircrafts_data table.'"
      ]
     },
     "execution_count": 26,
     "metadata": {},
     "output_type": "execute_result"
    }
   ],
   "source": [
    "agent_executor.run(\"How many rows are in the aircrafts_data table?\")"
   ]
  },
  {
   "cell_type": "code",
   "execution_count": 27,
   "metadata": {},
   "outputs": [
    {
     "name": "stdout",
     "output_type": "stream",
     "text": [
      "\n",
      "\n",
      "\u001b[1m> Entering new AgentExecutor chain...\u001b[0m\n",
      "\u001b[32;1m\u001b[1;3mAction: sql_db_list_tables\n",
      "Action Input: \"\"\u001b[0m\n",
      "Observation: \u001b[38;5;200m\u001b[1;3maircrafts_data, airports_data, boarding_passes, bookings, flights, seats, ticket_flights, tickets\u001b[0m\n",
      "Thought:\u001b[32;1m\u001b[1;3mI can query the \"flights\" table to find the most expensive flights. I should check the schema of the \"flights\" table to see which columns are relevant.\n",
      "Action: sql_db_schema\n",
      "Action Input: \"flights\"\u001b[0m\n",
      "Observation: \u001b[33;1m\u001b[1;3m\n",
      "CREATE TABLE flights (\n",
      "\tflight_id SERIAL NOT NULL, \n",
      "\tflight_no CHAR(6) NOT NULL, \n",
      "\tscheduled_departure TIMESTAMP WITH TIME ZONE NOT NULL, \n",
      "\tscheduled_arrival TIMESTAMP WITH TIME ZONE NOT NULL, \n",
      "\tdeparture_airport CHAR(3) NOT NULL, \n",
      "\tarrival_airport CHAR(3) NOT NULL, \n",
      "\tstatus VARCHAR(20) NOT NULL, \n",
      "\taircraft_code CHAR(3) NOT NULL, \n",
      "\tactual_departure TIMESTAMP WITH TIME ZONE, \n",
      "\tactual_arrival TIMESTAMP WITH TIME ZONE, \n",
      "\tCONSTRAINT flights_pkey PRIMARY KEY (flight_id), \n",
      "\tCONSTRAINT flights_aircraft_code_fkey FOREIGN KEY(aircraft_code) REFERENCES aircrafts_data (aircraft_code), \n",
      "\tCONSTRAINT flights_arrival_airport_fkey FOREIGN KEY(arrival_airport) REFERENCES airports_data (airport_code), \n",
      "\tCONSTRAINT flights_departure_airport_fkey FOREIGN KEY(departure_airport) REFERENCES airports_data (airport_code), \n",
      "\tCONSTRAINT flights_flight_no_scheduled_departure_key UNIQUE (flight_no, scheduled_departure), \n",
      "\tCONSTRAINT flights_check CHECK (scheduled_arrival > scheduled_departure), \n",
      "\tCONSTRAINT flights_check1 CHECK (actual_arrival IS NULL OR actual_departure IS NOT NULL AND actual_arrival IS NOT NULL AND actual_arrival > actual_departure), \n",
      "\tCONSTRAINT flights_status_check CHECK (status::text = ANY (ARRAY['On Time'::character varying::text, 'Delayed'::character varying::text, 'Departed'::character varying::text, 'Arrived'::character varying::text, 'Scheduled'::character varying::text, 'Cancelled'::character varying::text]))\n",
      ")\n",
      "\n",
      "/*\n",
      "3 rows from flights table:\n",
      "flight_id\tflight_no\tscheduled_departure\tscheduled_arrival\tdeparture_airport\tarrival_airport\tstatus\taircraft_code\tactual_departure\tactual_arrival\n",
      "182\tPG0402\t2017-09-01 02:25:00-07:00\t2017-09-01 03:20:00-07:00\tDME\tLED\tScheduled\t321\tNone\tNone\n",
      "1996\tPG0335\t2017-08-25 23:30:00-07:00\t2017-08-26 01:35:00-07:00\tDME\tJOK\tScheduled\tCN1\tNone\tNone\n",
      "5979\tPG0384\t2017-08-26 02:10:00-07:00\t2017-08-26 02:40:00-07:00\tDME\tBZK\tScheduled\tSU9\tNone\tNone\n",
      "*/\u001b[0m\n",
      "Thought:\u001b[32;1m\u001b[1;3mI can query the \"flights\" table to find the most expensive flights. I should use the \"total_amount\" column to order the results in descending order.\n",
      "Action: sql_db_query\n",
      "Action Input: \"SELECT * FROM flights ORDER BY total_amount DESC LIMIT 10\"\u001b[0m\n",
      "Observation: \u001b[36;1m\u001b[1;3mError: (psycopg2.errors.UndefinedColumn) column \"total_amount\" does not exist\n",
      "LINE 1: SELECT * FROM flights ORDER BY total_amount DESC LIMIT 10\n",
      "                                       ^\n",
      "\n",
      "[SQL: SELECT * FROM flights ORDER BY total_amount DESC LIMIT 10]\n",
      "(Background on this error at: https://sqlalche.me/e/20/f405)\u001b[0m\n",
      "Thought:\u001b[32;1m\u001b[1;3mThe \"flights\" table does not have a \"total_amount\" column. I should check the schema of the relevant tables again to find the correct column to use for ordering.\n",
      "Action: sql_db_schema\n",
      "Action Input: \"bookings, ticket_flights\"\u001b[0m\n",
      "Observation: \u001b[33;1m\u001b[1;3m\n",
      "CREATE TABLE bookings (\n",
      "\tbook_ref CHAR(6) NOT NULL, \n",
      "\tbook_date TIMESTAMP WITH TIME ZONE NOT NULL, \n",
      "\ttotal_amount NUMERIC(10, 2) NOT NULL, \n",
      "\tCONSTRAINT bookings_pkey PRIMARY KEY (book_ref)\n",
      ")\n",
      "\n",
      "/*\n",
      "3 rows from bookings table:\n",
      "book_ref\tbook_date\ttotal_amount\n",
      "00000F\t2017-07-04 17:12:00-07:00\t265700.00\n",
      "000012\t2017-07-13 23:02:00-07:00\t37900.00\n",
      "00002D\t2017-05-20 08:45:00-07:00\t114700.00\n",
      "*/\n",
      "\n",
      "\n",
      "CREATE TABLE ticket_flights (\n",
      "\tticket_no CHAR(13) NOT NULL, \n",
      "\tflight_id INTEGER NOT NULL, \n",
      "\tfare_conditions VARCHAR(10) NOT NULL, \n",
      "\tamount NUMERIC(10, 2) NOT NULL, \n",
      "\tCONSTRAINT ticket_flights_pkey PRIMARY KEY (ticket_no, flight_id), \n",
      "\tCONSTRAINT ticket_flights_flight_id_fkey FOREIGN KEY(flight_id) REFERENCES flights (flight_id), \n",
      "\tCONSTRAINT ticket_flights_ticket_no_fkey FOREIGN KEY(ticket_no) REFERENCES tickets (ticket_no), \n",
      "\tCONSTRAINT ticket_flights_amount_check CHECK (amount >= 0::numeric), \n",
      "\tCONSTRAINT ticket_flights_fare_conditions_check CHECK (fare_conditions::text = ANY (ARRAY['Economy'::character varying::text, 'Comfort'::character varying::text, 'Business'::character varying::text]))\n",
      ")\n",
      "\n",
      "/*\n",
      "3 rows from ticket_flights table:\n",
      "ticket_no\tflight_id\tfare_conditions\tamount\n",
      "0005432081075\t11002\tBusiness\t99800.00\n",
      "0005433845814\t11047\tBusiness\t99800.00\n",
      "0005432003470\t27484\tBusiness\t99800.00\n",
      "*/\u001b[0m\n",
      "Thought:\u001b[32;1m\u001b[1;3mThe \"total_amount\" column is in the \"bookings\" table, not the \"flights\" table. I should query the \"bookings\" table instead.\n",
      "Action: sql_db_query\n",
      "Action Input: \"SELECT * FROM bookings ORDER BY total_amount DESC LIMIT 10\"\u001b[0m\n",
      "Observation: \u001b[36;1m\u001b[1;3m[('3B54BB', datetime.datetime(2017, 7, 5, 7, 8, tzinfo=datetime.timezone(datetime.timedelta(days=-1, seconds=61200))), Decimal('1204500.00')), ('53B75C', datetime.datetime(2017, 5, 28, 23, 20, tzinfo=datetime.timezone(datetime.timedelta(days=-1, seconds=61200))), Decimal('1116700.00')), ('3AC131', datetime.datetime(2017, 7, 30, 15, 6, tzinfo=datetime.timezone(datetime.timedelta(days=-1, seconds=61200))), Decimal('1087100.00')), ('4B58DB', datetime.datetime(2017, 5, 14, 5, 39, tzinfo=datetime.timezone(datetime.timedelta(days=-1, seconds=61200))), Decimal('1065600.00')), ('65A6EA', datetime.datetime(2017, 7, 2, 20, 28, tzinfo=datetime.timezone(datetime.timedelta(days=-1, seconds=61200))), Decimal('1065600.00')), ('D7061C', datetime.datetime(2017, 6, 6, 1, 49, tzinfo=datetime.timezone(datetime.timedelta(days=-1, seconds=61200))), Decimal('1065600.00')), ('D7E9AA', datetime.datetime(2017, 8, 7, 19, 29, tzinfo=datetime.timezone(datetime.timedelta(days=-1, seconds=61200))), Decimal('1062800.00')), ('EF479E', datetime.datetime(2017, 8, 2, 5, 58, tzinfo=datetime.timezone(datetime.timedelta(days=-1, seconds=61200))), Decimal('1035100.00')), ('03BCC9', datetime.datetime(2017, 6, 25, 20, 26, tzinfo=datetime.timezone(datetime.timedelta(days=-1, seconds=61200))), Decimal('1022500.00')), ('1BE923', datetime.datetime(2017, 6, 24, 3, 29, tzinfo=datetime.timezone(datetime.timedelta(days=-1, seconds=61200))), Decimal('1016500.00'))]\u001b[0m\n",
      "Thought:"
     ]
    },
    {
     "ename": "OutputParserException",
     "evalue": "Could not parse LLM output: `The top ten most expensive flights, ordered by total amount in descending order, are:\n1. Booking reference: 3B54BB, Book date: 2017-07-05 07:08:00, Total amount: $1,204,500.00\n2. Booking reference: 53B75C, Book date: 2017-05-28 23:20:00, Total amount: $1,116,700.00\n3. Booking reference: 3AC131, Book date: 2017-07-30 15:06:00, Total amount: $1,087,100.00\n4. Booking reference: 4B58DB, Book date: 2017-05-14 05:39:00, Total amount: $1,065,600.00\n5. Booking reference: 65A6EA, Book date: 2017-07-02 20:28:00, Total amount: $1,065,600.00\n6. Booking reference: D7061C, Book date: 2017-06-06 01:49:00, Total amount: $1,065,600.00\n7. Booking reference: D7E9AA, Book date: 2017-08-07 19:29:00, Total amount: $1,062,800.00\n8. Booking reference: EF479E, Book date: 2017-08-02 05:58:00, Total amount: $1,035,100.00\n9. Booking reference: 03BCC9, Book date: 2017-06-25 20:26:00, Total amount: $1,022,500.00\n10. Booking reference: 1BE923, Book date: 2017-06-24 03:29:00, Total amount: $1,016,500.00`",
     "output_type": "error",
     "traceback": [
      "\u001b[0;31m---------------------------------------------------------------------------\u001b[0m",
      "\u001b[0;31mOutputParserException\u001b[0m                     Traceback (most recent call last)",
      "\u001b[0;32m/var/folders/nc/f3zlmfpd7glcc3g67jxvcb1m0000gn/T/ipykernel_21837/1573700379.py\u001b[0m in \u001b[0;36m<module>\u001b[0;34m\u001b[0m\n\u001b[0;32m----> 1\u001b[0;31m \u001b[0magent_executor\u001b[0m\u001b[0;34m.\u001b[0m\u001b[0mrun\u001b[0m\u001b[0;34m(\u001b[0m\u001b[0;34m\"find the top ten most expensive flights and order total amounts in descending order\"\u001b[0m\u001b[0;34m)\u001b[0m\u001b[0;34m\u001b[0m\u001b[0;34m\u001b[0m\u001b[0m\n\u001b[0m",
      "\u001b[0;32m/usr/local/lib/python3.9/site-packages/langchain/chains/base.py\u001b[0m in \u001b[0;36mrun\u001b[0;34m(self, callbacks, tags, metadata, *args, **kwargs)\u001b[0m\n\u001b[1;32m    434\u001b[0m             \u001b[0;32mif\u001b[0m \u001b[0mlen\u001b[0m\u001b[0;34m(\u001b[0m\u001b[0margs\u001b[0m\u001b[0;34m)\u001b[0m \u001b[0;34m!=\u001b[0m \u001b[0;36m1\u001b[0m\u001b[0;34m:\u001b[0m\u001b[0;34m\u001b[0m\u001b[0;34m\u001b[0m\u001b[0m\n\u001b[1;32m    435\u001b[0m                 \u001b[0;32mraise\u001b[0m \u001b[0mValueError\u001b[0m\u001b[0;34m(\u001b[0m\u001b[0;34m\"`run` supports only one positional argument.\"\u001b[0m\u001b[0;34m)\u001b[0m\u001b[0;34m\u001b[0m\u001b[0;34m\u001b[0m\u001b[0m\n\u001b[0;32m--> 436\u001b[0;31m             return self(args[0], callbacks=callbacks, tags=tags, metadata=metadata)[\n\u001b[0m\u001b[1;32m    437\u001b[0m                 \u001b[0m_output_key\u001b[0m\u001b[0;34m\u001b[0m\u001b[0;34m\u001b[0m\u001b[0m\n\u001b[1;32m    438\u001b[0m             ]\n",
      "\u001b[0;32m/usr/local/lib/python3.9/site-packages/langchain/chains/base.py\u001b[0m in \u001b[0;36m__call__\u001b[0;34m(self, inputs, return_only_outputs, callbacks, tags, metadata, include_run_info)\u001b[0m\n\u001b[1;32m    241\u001b[0m         \u001b[0;32mexcept\u001b[0m \u001b[0;34m(\u001b[0m\u001b[0mKeyboardInterrupt\u001b[0m\u001b[0;34m,\u001b[0m \u001b[0mException\u001b[0m\u001b[0;34m)\u001b[0m \u001b[0;32mas\u001b[0m \u001b[0me\u001b[0m\u001b[0;34m:\u001b[0m\u001b[0;34m\u001b[0m\u001b[0;34m\u001b[0m\u001b[0m\n\u001b[1;32m    242\u001b[0m             \u001b[0mrun_manager\u001b[0m\u001b[0;34m.\u001b[0m\u001b[0mon_chain_error\u001b[0m\u001b[0;34m(\u001b[0m\u001b[0me\u001b[0m\u001b[0;34m)\u001b[0m\u001b[0;34m\u001b[0m\u001b[0;34m\u001b[0m\u001b[0m\n\u001b[0;32m--> 243\u001b[0;31m             \u001b[0;32mraise\u001b[0m \u001b[0me\u001b[0m\u001b[0;34m\u001b[0m\u001b[0;34m\u001b[0m\u001b[0m\n\u001b[0m\u001b[1;32m    244\u001b[0m         \u001b[0mrun_manager\u001b[0m\u001b[0;34m.\u001b[0m\u001b[0mon_chain_end\u001b[0m\u001b[0;34m(\u001b[0m\u001b[0moutputs\u001b[0m\u001b[0;34m)\u001b[0m\u001b[0;34m\u001b[0m\u001b[0;34m\u001b[0m\u001b[0m\n\u001b[1;32m    245\u001b[0m         final_outputs: Dict[str, Any] = self.prep_outputs(\n",
      "\u001b[0;32m/usr/local/lib/python3.9/site-packages/langchain/chains/base.py\u001b[0m in \u001b[0;36m__call__\u001b[0;34m(self, inputs, return_only_outputs, callbacks, tags, metadata, include_run_info)\u001b[0m\n\u001b[1;32m    235\u001b[0m         \u001b[0;32mtry\u001b[0m\u001b[0;34m:\u001b[0m\u001b[0;34m\u001b[0m\u001b[0;34m\u001b[0m\u001b[0m\n\u001b[1;32m    236\u001b[0m             outputs = (\n\u001b[0;32m--> 237\u001b[0;31m                 \u001b[0mself\u001b[0m\u001b[0;34m.\u001b[0m\u001b[0m_call\u001b[0m\u001b[0;34m(\u001b[0m\u001b[0minputs\u001b[0m\u001b[0;34m,\u001b[0m \u001b[0mrun_manager\u001b[0m\u001b[0;34m=\u001b[0m\u001b[0mrun_manager\u001b[0m\u001b[0;34m)\u001b[0m\u001b[0;34m\u001b[0m\u001b[0;34m\u001b[0m\u001b[0m\n\u001b[0m\u001b[1;32m    238\u001b[0m                 \u001b[0;32mif\u001b[0m \u001b[0mnew_arg_supported\u001b[0m\u001b[0;34m\u001b[0m\u001b[0;34m\u001b[0m\u001b[0m\n\u001b[1;32m    239\u001b[0m                 \u001b[0;32melse\u001b[0m \u001b[0mself\u001b[0m\u001b[0;34m.\u001b[0m\u001b[0m_call\u001b[0m\u001b[0;34m(\u001b[0m\u001b[0minputs\u001b[0m\u001b[0;34m)\u001b[0m\u001b[0;34m\u001b[0m\u001b[0;34m\u001b[0m\u001b[0m\n",
      "\u001b[0;32m/usr/local/lib/python3.9/site-packages/langchain/agents/agent.py\u001b[0m in \u001b[0;36m_call\u001b[0;34m(self, inputs, run_manager)\u001b[0m\n\u001b[1;32m   1027\u001b[0m         \u001b[0;31m# We now enter the agent loop (until it returns something).\u001b[0m\u001b[0;34m\u001b[0m\u001b[0;34m\u001b[0m\u001b[0;34m\u001b[0m\u001b[0m\n\u001b[1;32m   1028\u001b[0m         \u001b[0;32mwhile\u001b[0m \u001b[0mself\u001b[0m\u001b[0;34m.\u001b[0m\u001b[0m_should_continue\u001b[0m\u001b[0;34m(\u001b[0m\u001b[0miterations\u001b[0m\u001b[0;34m,\u001b[0m \u001b[0mtime_elapsed\u001b[0m\u001b[0;34m)\u001b[0m\u001b[0;34m:\u001b[0m\u001b[0;34m\u001b[0m\u001b[0;34m\u001b[0m\u001b[0m\n\u001b[0;32m-> 1029\u001b[0;31m             next_step_output = self._take_next_step(\n\u001b[0m\u001b[1;32m   1030\u001b[0m                 \u001b[0mname_to_tool_map\u001b[0m\u001b[0;34m,\u001b[0m\u001b[0;34m\u001b[0m\u001b[0;34m\u001b[0m\u001b[0m\n\u001b[1;32m   1031\u001b[0m                 \u001b[0mcolor_mapping\u001b[0m\u001b[0;34m,\u001b[0m\u001b[0;34m\u001b[0m\u001b[0;34m\u001b[0m\u001b[0m\n",
      "\u001b[0;32m/usr/local/lib/python3.9/site-packages/langchain/agents/agent.py\u001b[0m in \u001b[0;36m_take_next_step\u001b[0;34m(self, name_to_tool_map, color_mapping, inputs, intermediate_steps, run_manager)\u001b[0m\n\u001b[1;32m    841\u001b[0m                 \u001b[0mraise_error\u001b[0m \u001b[0;34m=\u001b[0m \u001b[0;32mFalse\u001b[0m\u001b[0;34m\u001b[0m\u001b[0;34m\u001b[0m\u001b[0m\n\u001b[1;32m    842\u001b[0m             \u001b[0;32mif\u001b[0m \u001b[0mraise_error\u001b[0m\u001b[0;34m:\u001b[0m\u001b[0;34m\u001b[0m\u001b[0;34m\u001b[0m\u001b[0m\n\u001b[0;32m--> 843\u001b[0;31m                 \u001b[0;32mraise\u001b[0m \u001b[0me\u001b[0m\u001b[0;34m\u001b[0m\u001b[0;34m\u001b[0m\u001b[0m\n\u001b[0m\u001b[1;32m    844\u001b[0m             \u001b[0mtext\u001b[0m \u001b[0;34m=\u001b[0m \u001b[0mstr\u001b[0m\u001b[0;34m(\u001b[0m\u001b[0me\u001b[0m\u001b[0;34m)\u001b[0m\u001b[0;34m\u001b[0m\u001b[0;34m\u001b[0m\u001b[0m\n\u001b[1;32m    845\u001b[0m             \u001b[0;32mif\u001b[0m \u001b[0misinstance\u001b[0m\u001b[0;34m(\u001b[0m\u001b[0mself\u001b[0m\u001b[0;34m.\u001b[0m\u001b[0mhandle_parsing_errors\u001b[0m\u001b[0;34m,\u001b[0m \u001b[0mbool\u001b[0m\u001b[0;34m)\u001b[0m\u001b[0;34m:\u001b[0m\u001b[0;34m\u001b[0m\u001b[0;34m\u001b[0m\u001b[0m\n",
      "\u001b[0;32m/usr/local/lib/python3.9/site-packages/langchain/agents/agent.py\u001b[0m in \u001b[0;36m_take_next_step\u001b[0;34m(self, name_to_tool_map, color_mapping, inputs, intermediate_steps, run_manager)\u001b[0m\n\u001b[1;32m    830\u001b[0m \u001b[0;34m\u001b[0m\u001b[0m\n\u001b[1;32m    831\u001b[0m             \u001b[0;31m# Call the LLM to see what to do.\u001b[0m\u001b[0;34m\u001b[0m\u001b[0;34m\u001b[0m\u001b[0;34m\u001b[0m\u001b[0m\n\u001b[0;32m--> 832\u001b[0;31m             output = self.agent.plan(\n\u001b[0m\u001b[1;32m    833\u001b[0m                 \u001b[0mintermediate_steps\u001b[0m\u001b[0;34m,\u001b[0m\u001b[0;34m\u001b[0m\u001b[0;34m\u001b[0m\u001b[0m\n\u001b[1;32m    834\u001b[0m                 \u001b[0mcallbacks\u001b[0m\u001b[0;34m=\u001b[0m\u001b[0mrun_manager\u001b[0m\u001b[0;34m.\u001b[0m\u001b[0mget_child\u001b[0m\u001b[0;34m(\u001b[0m\u001b[0;34m)\u001b[0m \u001b[0;32mif\u001b[0m \u001b[0mrun_manager\u001b[0m \u001b[0;32melse\u001b[0m \u001b[0;32mNone\u001b[0m\u001b[0;34m,\u001b[0m\u001b[0;34m\u001b[0m\u001b[0;34m\u001b[0m\u001b[0m\n",
      "\u001b[0;32m/usr/local/lib/python3.9/site-packages/langchain/agents/agent.py\u001b[0m in \u001b[0;36mplan\u001b[0;34m(self, intermediate_steps, callbacks, **kwargs)\u001b[0m\n\u001b[1;32m    455\u001b[0m         \u001b[0mfull_inputs\u001b[0m \u001b[0;34m=\u001b[0m \u001b[0mself\u001b[0m\u001b[0;34m.\u001b[0m\u001b[0mget_full_inputs\u001b[0m\u001b[0;34m(\u001b[0m\u001b[0mintermediate_steps\u001b[0m\u001b[0;34m,\u001b[0m \u001b[0;34m**\u001b[0m\u001b[0mkwargs\u001b[0m\u001b[0;34m)\u001b[0m\u001b[0;34m\u001b[0m\u001b[0;34m\u001b[0m\u001b[0m\n\u001b[1;32m    456\u001b[0m         \u001b[0mfull_output\u001b[0m \u001b[0;34m=\u001b[0m \u001b[0mself\u001b[0m\u001b[0;34m.\u001b[0m\u001b[0mllm_chain\u001b[0m\u001b[0;34m.\u001b[0m\u001b[0mpredict\u001b[0m\u001b[0;34m(\u001b[0m\u001b[0mcallbacks\u001b[0m\u001b[0;34m=\u001b[0m\u001b[0mcallbacks\u001b[0m\u001b[0;34m,\u001b[0m \u001b[0;34m**\u001b[0m\u001b[0mfull_inputs\u001b[0m\u001b[0;34m)\u001b[0m\u001b[0;34m\u001b[0m\u001b[0;34m\u001b[0m\u001b[0m\n\u001b[0;32m--> 457\u001b[0;31m         \u001b[0;32mreturn\u001b[0m \u001b[0mself\u001b[0m\u001b[0;34m.\u001b[0m\u001b[0moutput_parser\u001b[0m\u001b[0;34m.\u001b[0m\u001b[0mparse\u001b[0m\u001b[0;34m(\u001b[0m\u001b[0mfull_output\u001b[0m\u001b[0;34m)\u001b[0m\u001b[0;34m\u001b[0m\u001b[0;34m\u001b[0m\u001b[0m\n\u001b[0m\u001b[1;32m    458\u001b[0m \u001b[0;34m\u001b[0m\u001b[0m\n\u001b[1;32m    459\u001b[0m     async def aplan(\n",
      "\u001b[0;32m/usr/local/lib/python3.9/site-packages/langchain/agents/mrkl/output_parser.py\u001b[0m in \u001b[0;36mparse\u001b[0;34m(self, text)\u001b[0m\n\u001b[1;32m     42\u001b[0m \u001b[0;34m\u001b[0m\u001b[0m\n\u001b[1;32m     43\u001b[0m         \u001b[0;32mif\u001b[0m \u001b[0;32mnot\u001b[0m \u001b[0mre\u001b[0m\u001b[0;34m.\u001b[0m\u001b[0msearch\u001b[0m\u001b[0;34m(\u001b[0m\u001b[0;34mr\"Action\\s*\\d*\\s*:[\\s]*(.*?)\"\u001b[0m\u001b[0;34m,\u001b[0m \u001b[0mtext\u001b[0m\u001b[0;34m,\u001b[0m \u001b[0mre\u001b[0m\u001b[0;34m.\u001b[0m\u001b[0mDOTALL\u001b[0m\u001b[0;34m)\u001b[0m\u001b[0;34m:\u001b[0m\u001b[0;34m\u001b[0m\u001b[0;34m\u001b[0m\u001b[0m\n\u001b[0;32m---> 44\u001b[0;31m             raise OutputParserException(\n\u001b[0m\u001b[1;32m     45\u001b[0m                 \u001b[0;34mf\"Could not parse LLM output: `{text}`\"\u001b[0m\u001b[0;34m,\u001b[0m\u001b[0;34m\u001b[0m\u001b[0;34m\u001b[0m\u001b[0m\n\u001b[1;32m     46\u001b[0m                 \u001b[0mobservation\u001b[0m\u001b[0;34m=\u001b[0m\u001b[0;34m\"Invalid Format: Missing 'Action:' after 'Thought:'\"\u001b[0m\u001b[0;34m,\u001b[0m\u001b[0;34m\u001b[0m\u001b[0;34m\u001b[0m\u001b[0m\n",
      "\u001b[0;31mOutputParserException\u001b[0m: Could not parse LLM output: `The top ten most expensive flights, ordered by total amount in descending order, are:\n1. Booking reference: 3B54BB, Book date: 2017-07-05 07:08:00, Total amount: $1,204,500.00\n2. Booking reference: 53B75C, Book date: 2017-05-28 23:20:00, Total amount: $1,116,700.00\n3. Booking reference: 3AC131, Book date: 2017-07-30 15:06:00, Total amount: $1,087,100.00\n4. Booking reference: 4B58DB, Book date: 2017-05-14 05:39:00, Total amount: $1,065,600.00\n5. Booking reference: 65A6EA, Book date: 2017-07-02 20:28:00, Total amount: $1,065,600.00\n6. Booking reference: D7061C, Book date: 2017-06-06 01:49:00, Total amount: $1,065,600.00\n7. Booking reference: D7E9AA, Book date: 2017-08-07 19:29:00, Total amount: $1,062,800.00\n8. Booking reference: EF479E, Book date: 2017-08-02 05:58:00, Total amount: $1,035,100.00\n9. Booking reference: 03BCC9, Book date: 2017-06-25 20:26:00, Total amount: $1,022,500.00\n10. Booking reference: 1BE923, Book date: 2017-06-24 03:29:00, Total amount: $1,016,500.00`"
     ]
    }
   ],
   "source": [
    "agent_executor.run(\"find the top ten most expensive flights and order total amounts in descending order\")"
   ]
  },
  {
   "cell_type": "code",
   "execution_count": 29,
   "metadata": {},
   "outputs": [
    {
     "name": "stdout",
     "output_type": "stream",
     "text": [
      "\n",
      "\n",
      "\u001b[1m> Entering new AgentExecutor chain...\u001b[0m\n",
      "\u001b[32;1m\u001b[1;3mAction: sql_db_list_tables\n",
      "Action Input: \"\"\u001b[0m\n",
      "Observation: \u001b[38;5;200m\u001b[1;3maircrafts_data, airports_data, boarding_passes, bookings, flights, seats, ticket_flights, tickets\u001b[0m\n",
      "Thought:\u001b[32;1m\u001b[1;3mI see that the relevant tables are bookings and tickets. I should query the schema of these tables to see what columns I can use to find the number of ticket bookings for a specific passenger.\n",
      "Action: sql_db_schema\n",
      "Action Input: \"bookings, tickets\"\u001b[0m\n",
      "Observation: \u001b[33;1m\u001b[1;3m\n",
      "CREATE TABLE bookings (\n",
      "\tbook_ref CHAR(6) NOT NULL, \n",
      "\tbook_date TIMESTAMP WITH TIME ZONE NOT NULL, \n",
      "\ttotal_amount NUMERIC(10, 2) NOT NULL, \n",
      "\tCONSTRAINT bookings_pkey PRIMARY KEY (book_ref)\n",
      ")\n",
      "\n",
      "/*\n",
      "3 rows from bookings table:\n",
      "book_ref\tbook_date\ttotal_amount\n",
      "00000F\t2017-07-04 17:12:00-07:00\t265700.00\n",
      "000012\t2017-07-13 23:02:00-07:00\t37900.00\n",
      "00002D\t2017-05-20 08:45:00-07:00\t114700.00\n",
      "*/\n",
      "\n",
      "\n",
      "CREATE TABLE tickets (\n",
      "\tticket_no CHAR(13) NOT NULL, \n",
      "\tbook_ref CHAR(6) NOT NULL, \n",
      "\tpassenger_id VARCHAR(20) NOT NULL, \n",
      "\tpassenger_name TEXT NOT NULL, \n",
      "\tcontact_data JSONB, \n",
      "\tCONSTRAINT tickets_pkey PRIMARY KEY (ticket_no), \n",
      "\tCONSTRAINT tickets_book_ref_fkey FOREIGN KEY(book_ref) REFERENCES bookings (book_ref)\n",
      ")\n",
      "\n",
      "/*\n",
      "3 rows from tickets table:\n",
      "ticket_no\tbook_ref\tpassenger_id\tpassenger_name\tcontact_data\n",
      "0005432000860\t8BBCD2\t4750 122452\tVLADIMIR FROLOV\t{'phone': '+70125366530'}\n",
      "0005432000861\tDA7166\t3889 683019\tNINA BELOVA\t{'email': 'belovanina11041976@postgrespro.ru', 'phone': '+70048667971'}\n",
      "0005432000862\tDA7166\t3554 024596\tKIRA SIDOROVA\t{'email': 'sidorova.kira_101971@postgrespro.ru', 'phone': '+70398785493'}\n",
      "*/\u001b[0m\n",
      "Thought:\u001b[32;1m\u001b[1;3mI can see that the relevant tables are bookings and tickets. I can use the passenger_name column in the tickets table to find the number of ticket bookings for a specific passenger.\n",
      "Action: sql_db_query\n",
      "Action Input: \"SELECT COUNT(*) FROM tickets WHERE passenger_name = 'ANTONINA KUZNECOVA'\"\u001b[0m\n",
      "Observation: \u001b[36;1m\u001b[1;3m[(117,)]\u001b[0m\n",
      "Thought:\u001b[32;1m\u001b[1;3mThe query returned a count of 117 ticket bookings for passenger ANTONINA KUZNECOVA.\n",
      "Final Answer: 117\u001b[0m\n",
      "\n",
      "\u001b[1m> Finished chain.\u001b[0m\n"
     ]
    },
    {
     "data": {
      "text/plain": [
       "'117'"
      ]
     },
     "execution_count": 29,
     "metadata": {},
     "output_type": "execute_result"
    }
   ],
   "source": [
    "# Testing for case sensitivity in values. Passenger name ANTONINA KUZNECOVA is spelled using the same case sensitivity as in the db\n",
    "# executor correctly identified table and displayed the correct result based on the validation found in the validation_airports file.\n",
    "agent_executor.run(\"How many ticket bookings does passenger ANTONINA KUZNECOVA have? \")"
   ]
  },
  {
   "cell_type": "code",
   "execution_count": 30,
   "metadata": {},
   "outputs": [
    {
     "name": "stdout",
     "output_type": "stream",
     "text": [
      "\n",
      "\n",
      "\u001b[1m> Entering new AgentExecutor chain...\u001b[0m\n",
      "\u001b[32;1m\u001b[1;3mAction: sql_db_list_tables\n",
      "Action Input: \"\"\u001b[0m\n",
      "Observation: \u001b[38;5;200m\u001b[1;3maircrafts_data, airports_data, boarding_passes, bookings, flights, seats, ticket_flights, tickets\u001b[0m\n",
      "Thought:\u001b[32;1m\u001b[1;3mI see that the relevant tables are bookings and tickets. I should query the schema of these tables to see what columns I can use to find the number of ticket bookings for passenger Antonina Kuznecova.\n",
      "Action: sql_db_schema\n",
      "Action Input: \"bookings, tickets\"\u001b[0m\n",
      "Observation: \u001b[33;1m\u001b[1;3m\n",
      "CREATE TABLE bookings (\n",
      "\tbook_ref CHAR(6) NOT NULL, \n",
      "\tbook_date TIMESTAMP WITH TIME ZONE NOT NULL, \n",
      "\ttotal_amount NUMERIC(10, 2) NOT NULL, \n",
      "\tCONSTRAINT bookings_pkey PRIMARY KEY (book_ref)\n",
      ")\n",
      "\n",
      "/*\n",
      "3 rows from bookings table:\n",
      "book_ref\tbook_date\ttotal_amount\n",
      "00000F\t2017-07-04 17:12:00-07:00\t265700.00\n",
      "000012\t2017-07-13 23:02:00-07:00\t37900.00\n",
      "00002D\t2017-05-20 08:45:00-07:00\t114700.00\n",
      "*/\n",
      "\n",
      "\n",
      "CREATE TABLE tickets (\n",
      "\tticket_no CHAR(13) NOT NULL, \n",
      "\tbook_ref CHAR(6) NOT NULL, \n",
      "\tpassenger_id VARCHAR(20) NOT NULL, \n",
      "\tpassenger_name TEXT NOT NULL, \n",
      "\tcontact_data JSONB, \n",
      "\tCONSTRAINT tickets_pkey PRIMARY KEY (ticket_no), \n",
      "\tCONSTRAINT tickets_book_ref_fkey FOREIGN KEY(book_ref) REFERENCES bookings (book_ref)\n",
      ")\n",
      "\n",
      "/*\n",
      "3 rows from tickets table:\n",
      "ticket_no\tbook_ref\tpassenger_id\tpassenger_name\tcontact_data\n",
      "0005432000860\t8BBCD2\t4750 122452\tVLADIMIR FROLOV\t{'phone': '+70125366530'}\n",
      "0005432000861\tDA7166\t3889 683019\tNINA BELOVA\t{'email': 'belovanina11041976@postgrespro.ru', 'phone': '+70048667971'}\n",
      "0005432000862\tDA7166\t3554 024596\tKIRA SIDOROVA\t{'email': 'sidorova.kira_101971@postgrespro.ru', 'phone': '+70398785493'}\n",
      "*/\u001b[0m\n",
      "Thought:\u001b[32;1m\u001b[1;3mI can use the bookings and tickets tables to find the number of ticket bookings for passenger Antonina Kuznecova. I will write a query to count the number of bookings for this passenger.\n",
      "Action: sql_db_query\n",
      "Action Input: \"SELECT COUNT(*) FROM bookings b JOIN tickets t ON b.book_ref = t.book_ref WHERE t.passenger_name = 'Antonina Kuznecova'\"\u001b[0m\n",
      "Observation: \u001b[36;1m\u001b[1;3m[(0,)]\u001b[0m\n",
      "Thought:\u001b[32;1m\u001b[1;3mThe query returned a count of 0, which means that passenger Antonina Kuznecova does not have any ticket bookings.\n",
      "Final Answer: 0\u001b[0m\n",
      "\n",
      "\u001b[1m> Finished chain.\u001b[0m\n"
     ]
    },
    {
     "data": {
      "text/plain": [
       "'0'"
      ]
     },
     "execution_count": 30,
     "metadata": {},
     "output_type": "execute_result"
    }
   ],
   "source": [
    "\n",
    "# langchain identified the value when the same case sensitivity used in the db was used in the prompt\n",
    "# but failed to exexute query once the case sensitivity was incorrect. It did, however identify one of\n",
    "# the correct tables {tickets} but joined to the {bookings} table which isn't incorrect. Executor did use case sensitivity \n",
    "# as instructed by the prompt.\n",
    "\n",
    "\n",
    "agent_executor.run(\"How many ticket bookings does passenger Antonina Kuznecova have? \")"
   ]
  },
  {
   "cell_type": "code",
   "execution_count": 32,
   "metadata": {},
   "outputs": [
    {
     "name": "stdout",
     "output_type": "stream",
     "text": [
      "\n",
      "\n",
      "\u001b[1m> Entering new AgentExecutor chain...\u001b[0m\n",
      "\u001b[32;1m\u001b[1;3mAction: sql_db_list_tables\n",
      "Action Input: \"\"\u001b[0m\n",
      "Observation: \u001b[38;5;200m\u001b[1;3maircrafts_data, airports_data, boarding_passes, bookings, flights, seats, ticket_flights, tickets\u001b[0m\n",
      "Thought:\u001b[32;1m\u001b[1;3mI can query the \"bookings\" table to get the schema of the \"routes\" view.\n",
      "Action: sql_db_schema\n",
      "Action Input: \"bookings\"\u001b[0m\n",
      "Observation: \u001b[33;1m\u001b[1;3m\n",
      "CREATE TABLE bookings (\n",
      "\tbook_ref CHAR(6) NOT NULL, \n",
      "\tbook_date TIMESTAMP WITH TIME ZONE NOT NULL, \n",
      "\ttotal_amount NUMERIC(10, 2) NOT NULL, \n",
      "\tCONSTRAINT bookings_pkey PRIMARY KEY (book_ref)\n",
      ")\n",
      "\n",
      "/*\n",
      "3 rows from bookings table:\n",
      "book_ref\tbook_date\ttotal_amount\n",
      "00000F\t2017-07-04 17:12:00-07:00\t265700.00\n",
      "000012\t2017-07-13 23:02:00-07:00\t37900.00\n",
      "00002D\t2017-05-20 08:45:00-07:00\t114700.00\n",
      "*/\u001b[0m\n",
      "Thought:"
     ]
    },
    {
     "ename": "OutputParserException",
     "evalue": "Could not parse LLM output: `The \"routes\" view is not present in the \"bookings\" table. I don't know the answer.`",
     "output_type": "error",
     "traceback": [
      "\u001b[0;31m---------------------------------------------------------------------------\u001b[0m",
      "\u001b[0;31mOutputParserException\u001b[0m                     Traceback (most recent call last)",
      "\u001b[0;32m/var/folders/nc/f3zlmfpd7glcc3g67jxvcb1m0000gn/T/ipykernel_21837/2867998705.py\u001b[0m in \u001b[0;36m<module>\u001b[0;34m\u001b[0m\n\u001b[0;32m----> 1\u001b[0;31m \u001b[0magent_executor\u001b[0m\u001b[0;34m.\u001b[0m\u001b[0mrun\u001b[0m\u001b[0;34m(\u001b[0m\u001b[0;34m\"describe the routes view in the bookings schema\"\u001b[0m\u001b[0;34m)\u001b[0m\u001b[0;34m\u001b[0m\u001b[0;34m\u001b[0m\u001b[0m\n\u001b[0m",
      "\u001b[0;32m/usr/local/lib/python3.9/site-packages/langchain/chains/base.py\u001b[0m in \u001b[0;36mrun\u001b[0;34m(self, callbacks, tags, metadata, *args, **kwargs)\u001b[0m\n\u001b[1;32m    434\u001b[0m             \u001b[0;32mif\u001b[0m \u001b[0mlen\u001b[0m\u001b[0;34m(\u001b[0m\u001b[0margs\u001b[0m\u001b[0;34m)\u001b[0m \u001b[0;34m!=\u001b[0m \u001b[0;36m1\u001b[0m\u001b[0;34m:\u001b[0m\u001b[0;34m\u001b[0m\u001b[0;34m\u001b[0m\u001b[0m\n\u001b[1;32m    435\u001b[0m                 \u001b[0;32mraise\u001b[0m \u001b[0mValueError\u001b[0m\u001b[0;34m(\u001b[0m\u001b[0;34m\"`run` supports only one positional argument.\"\u001b[0m\u001b[0;34m)\u001b[0m\u001b[0;34m\u001b[0m\u001b[0;34m\u001b[0m\u001b[0m\n\u001b[0;32m--> 436\u001b[0;31m             return self(args[0], callbacks=callbacks, tags=tags, metadata=metadata)[\n\u001b[0m\u001b[1;32m    437\u001b[0m                 \u001b[0m_output_key\u001b[0m\u001b[0;34m\u001b[0m\u001b[0;34m\u001b[0m\u001b[0m\n\u001b[1;32m    438\u001b[0m             ]\n",
      "\u001b[0;32m/usr/local/lib/python3.9/site-packages/langchain/chains/base.py\u001b[0m in \u001b[0;36m__call__\u001b[0;34m(self, inputs, return_only_outputs, callbacks, tags, metadata, include_run_info)\u001b[0m\n\u001b[1;32m    241\u001b[0m         \u001b[0;32mexcept\u001b[0m \u001b[0;34m(\u001b[0m\u001b[0mKeyboardInterrupt\u001b[0m\u001b[0;34m,\u001b[0m \u001b[0mException\u001b[0m\u001b[0;34m)\u001b[0m \u001b[0;32mas\u001b[0m \u001b[0me\u001b[0m\u001b[0;34m:\u001b[0m\u001b[0;34m\u001b[0m\u001b[0;34m\u001b[0m\u001b[0m\n\u001b[1;32m    242\u001b[0m             \u001b[0mrun_manager\u001b[0m\u001b[0;34m.\u001b[0m\u001b[0mon_chain_error\u001b[0m\u001b[0;34m(\u001b[0m\u001b[0me\u001b[0m\u001b[0;34m)\u001b[0m\u001b[0;34m\u001b[0m\u001b[0;34m\u001b[0m\u001b[0m\n\u001b[0;32m--> 243\u001b[0;31m             \u001b[0;32mraise\u001b[0m \u001b[0me\u001b[0m\u001b[0;34m\u001b[0m\u001b[0;34m\u001b[0m\u001b[0m\n\u001b[0m\u001b[1;32m    244\u001b[0m         \u001b[0mrun_manager\u001b[0m\u001b[0;34m.\u001b[0m\u001b[0mon_chain_end\u001b[0m\u001b[0;34m(\u001b[0m\u001b[0moutputs\u001b[0m\u001b[0;34m)\u001b[0m\u001b[0;34m\u001b[0m\u001b[0;34m\u001b[0m\u001b[0m\n\u001b[1;32m    245\u001b[0m         final_outputs: Dict[str, Any] = self.prep_outputs(\n",
      "\u001b[0;32m/usr/local/lib/python3.9/site-packages/langchain/chains/base.py\u001b[0m in \u001b[0;36m__call__\u001b[0;34m(self, inputs, return_only_outputs, callbacks, tags, metadata, include_run_info)\u001b[0m\n\u001b[1;32m    235\u001b[0m         \u001b[0;32mtry\u001b[0m\u001b[0;34m:\u001b[0m\u001b[0;34m\u001b[0m\u001b[0;34m\u001b[0m\u001b[0m\n\u001b[1;32m    236\u001b[0m             outputs = (\n\u001b[0;32m--> 237\u001b[0;31m                 \u001b[0mself\u001b[0m\u001b[0;34m.\u001b[0m\u001b[0m_call\u001b[0m\u001b[0;34m(\u001b[0m\u001b[0minputs\u001b[0m\u001b[0;34m,\u001b[0m \u001b[0mrun_manager\u001b[0m\u001b[0;34m=\u001b[0m\u001b[0mrun_manager\u001b[0m\u001b[0;34m)\u001b[0m\u001b[0;34m\u001b[0m\u001b[0;34m\u001b[0m\u001b[0m\n\u001b[0m\u001b[1;32m    238\u001b[0m                 \u001b[0;32mif\u001b[0m \u001b[0mnew_arg_supported\u001b[0m\u001b[0;34m\u001b[0m\u001b[0;34m\u001b[0m\u001b[0m\n\u001b[1;32m    239\u001b[0m                 \u001b[0;32melse\u001b[0m \u001b[0mself\u001b[0m\u001b[0;34m.\u001b[0m\u001b[0m_call\u001b[0m\u001b[0;34m(\u001b[0m\u001b[0minputs\u001b[0m\u001b[0;34m)\u001b[0m\u001b[0;34m\u001b[0m\u001b[0;34m\u001b[0m\u001b[0m\n",
      "\u001b[0;32m/usr/local/lib/python3.9/site-packages/langchain/agents/agent.py\u001b[0m in \u001b[0;36m_call\u001b[0;34m(self, inputs, run_manager)\u001b[0m\n\u001b[1;32m   1027\u001b[0m         \u001b[0;31m# We now enter the agent loop (until it returns something).\u001b[0m\u001b[0;34m\u001b[0m\u001b[0;34m\u001b[0m\u001b[0;34m\u001b[0m\u001b[0m\n\u001b[1;32m   1028\u001b[0m         \u001b[0;32mwhile\u001b[0m \u001b[0mself\u001b[0m\u001b[0;34m.\u001b[0m\u001b[0m_should_continue\u001b[0m\u001b[0;34m(\u001b[0m\u001b[0miterations\u001b[0m\u001b[0;34m,\u001b[0m \u001b[0mtime_elapsed\u001b[0m\u001b[0;34m)\u001b[0m\u001b[0;34m:\u001b[0m\u001b[0;34m\u001b[0m\u001b[0;34m\u001b[0m\u001b[0m\n\u001b[0;32m-> 1029\u001b[0;31m             next_step_output = self._take_next_step(\n\u001b[0m\u001b[1;32m   1030\u001b[0m                 \u001b[0mname_to_tool_map\u001b[0m\u001b[0;34m,\u001b[0m\u001b[0;34m\u001b[0m\u001b[0;34m\u001b[0m\u001b[0m\n\u001b[1;32m   1031\u001b[0m                 \u001b[0mcolor_mapping\u001b[0m\u001b[0;34m,\u001b[0m\u001b[0;34m\u001b[0m\u001b[0;34m\u001b[0m\u001b[0m\n",
      "\u001b[0;32m/usr/local/lib/python3.9/site-packages/langchain/agents/agent.py\u001b[0m in \u001b[0;36m_take_next_step\u001b[0;34m(self, name_to_tool_map, color_mapping, inputs, intermediate_steps, run_manager)\u001b[0m\n\u001b[1;32m    841\u001b[0m                 \u001b[0mraise_error\u001b[0m \u001b[0;34m=\u001b[0m \u001b[0;32mFalse\u001b[0m\u001b[0;34m\u001b[0m\u001b[0;34m\u001b[0m\u001b[0m\n\u001b[1;32m    842\u001b[0m             \u001b[0;32mif\u001b[0m \u001b[0mraise_error\u001b[0m\u001b[0;34m:\u001b[0m\u001b[0;34m\u001b[0m\u001b[0;34m\u001b[0m\u001b[0m\n\u001b[0;32m--> 843\u001b[0;31m                 \u001b[0;32mraise\u001b[0m \u001b[0me\u001b[0m\u001b[0;34m\u001b[0m\u001b[0;34m\u001b[0m\u001b[0m\n\u001b[0m\u001b[1;32m    844\u001b[0m             \u001b[0mtext\u001b[0m \u001b[0;34m=\u001b[0m \u001b[0mstr\u001b[0m\u001b[0;34m(\u001b[0m\u001b[0me\u001b[0m\u001b[0;34m)\u001b[0m\u001b[0;34m\u001b[0m\u001b[0;34m\u001b[0m\u001b[0m\n\u001b[1;32m    845\u001b[0m             \u001b[0;32mif\u001b[0m \u001b[0misinstance\u001b[0m\u001b[0;34m(\u001b[0m\u001b[0mself\u001b[0m\u001b[0;34m.\u001b[0m\u001b[0mhandle_parsing_errors\u001b[0m\u001b[0;34m,\u001b[0m \u001b[0mbool\u001b[0m\u001b[0;34m)\u001b[0m\u001b[0;34m:\u001b[0m\u001b[0;34m\u001b[0m\u001b[0;34m\u001b[0m\u001b[0m\n",
      "\u001b[0;32m/usr/local/lib/python3.9/site-packages/langchain/agents/agent.py\u001b[0m in \u001b[0;36m_take_next_step\u001b[0;34m(self, name_to_tool_map, color_mapping, inputs, intermediate_steps, run_manager)\u001b[0m\n\u001b[1;32m    830\u001b[0m \u001b[0;34m\u001b[0m\u001b[0m\n\u001b[1;32m    831\u001b[0m             \u001b[0;31m# Call the LLM to see what to do.\u001b[0m\u001b[0;34m\u001b[0m\u001b[0;34m\u001b[0m\u001b[0;34m\u001b[0m\u001b[0m\n\u001b[0;32m--> 832\u001b[0;31m             output = self.agent.plan(\n\u001b[0m\u001b[1;32m    833\u001b[0m                 \u001b[0mintermediate_steps\u001b[0m\u001b[0;34m,\u001b[0m\u001b[0;34m\u001b[0m\u001b[0;34m\u001b[0m\u001b[0m\n\u001b[1;32m    834\u001b[0m                 \u001b[0mcallbacks\u001b[0m\u001b[0;34m=\u001b[0m\u001b[0mrun_manager\u001b[0m\u001b[0;34m.\u001b[0m\u001b[0mget_child\u001b[0m\u001b[0;34m(\u001b[0m\u001b[0;34m)\u001b[0m \u001b[0;32mif\u001b[0m \u001b[0mrun_manager\u001b[0m \u001b[0;32melse\u001b[0m \u001b[0;32mNone\u001b[0m\u001b[0;34m,\u001b[0m\u001b[0;34m\u001b[0m\u001b[0;34m\u001b[0m\u001b[0m\n",
      "\u001b[0;32m/usr/local/lib/python3.9/site-packages/langchain/agents/agent.py\u001b[0m in \u001b[0;36mplan\u001b[0;34m(self, intermediate_steps, callbacks, **kwargs)\u001b[0m\n\u001b[1;32m    455\u001b[0m         \u001b[0mfull_inputs\u001b[0m \u001b[0;34m=\u001b[0m \u001b[0mself\u001b[0m\u001b[0;34m.\u001b[0m\u001b[0mget_full_inputs\u001b[0m\u001b[0;34m(\u001b[0m\u001b[0mintermediate_steps\u001b[0m\u001b[0;34m,\u001b[0m \u001b[0;34m**\u001b[0m\u001b[0mkwargs\u001b[0m\u001b[0;34m)\u001b[0m\u001b[0;34m\u001b[0m\u001b[0;34m\u001b[0m\u001b[0m\n\u001b[1;32m    456\u001b[0m         \u001b[0mfull_output\u001b[0m \u001b[0;34m=\u001b[0m \u001b[0mself\u001b[0m\u001b[0;34m.\u001b[0m\u001b[0mllm_chain\u001b[0m\u001b[0;34m.\u001b[0m\u001b[0mpredict\u001b[0m\u001b[0;34m(\u001b[0m\u001b[0mcallbacks\u001b[0m\u001b[0;34m=\u001b[0m\u001b[0mcallbacks\u001b[0m\u001b[0;34m,\u001b[0m \u001b[0;34m**\u001b[0m\u001b[0mfull_inputs\u001b[0m\u001b[0;34m)\u001b[0m\u001b[0;34m\u001b[0m\u001b[0;34m\u001b[0m\u001b[0m\n\u001b[0;32m--> 457\u001b[0;31m         \u001b[0;32mreturn\u001b[0m \u001b[0mself\u001b[0m\u001b[0;34m.\u001b[0m\u001b[0moutput_parser\u001b[0m\u001b[0;34m.\u001b[0m\u001b[0mparse\u001b[0m\u001b[0;34m(\u001b[0m\u001b[0mfull_output\u001b[0m\u001b[0;34m)\u001b[0m\u001b[0;34m\u001b[0m\u001b[0;34m\u001b[0m\u001b[0m\n\u001b[0m\u001b[1;32m    458\u001b[0m \u001b[0;34m\u001b[0m\u001b[0m\n\u001b[1;32m    459\u001b[0m     async def aplan(\n",
      "\u001b[0;32m/usr/local/lib/python3.9/site-packages/langchain/agents/mrkl/output_parser.py\u001b[0m in \u001b[0;36mparse\u001b[0;34m(self, text)\u001b[0m\n\u001b[1;32m     42\u001b[0m \u001b[0;34m\u001b[0m\u001b[0m\n\u001b[1;32m     43\u001b[0m         \u001b[0;32mif\u001b[0m \u001b[0;32mnot\u001b[0m \u001b[0mre\u001b[0m\u001b[0;34m.\u001b[0m\u001b[0msearch\u001b[0m\u001b[0;34m(\u001b[0m\u001b[0;34mr\"Action\\s*\\d*\\s*:[\\s]*(.*?)\"\u001b[0m\u001b[0;34m,\u001b[0m \u001b[0mtext\u001b[0m\u001b[0;34m,\u001b[0m \u001b[0mre\u001b[0m\u001b[0;34m.\u001b[0m\u001b[0mDOTALL\u001b[0m\u001b[0;34m)\u001b[0m\u001b[0;34m:\u001b[0m\u001b[0;34m\u001b[0m\u001b[0;34m\u001b[0m\u001b[0m\n\u001b[0;32m---> 44\u001b[0;31m             raise OutputParserException(\n\u001b[0m\u001b[1;32m     45\u001b[0m                 \u001b[0;34mf\"Could not parse LLM output: `{text}`\"\u001b[0m\u001b[0;34m,\u001b[0m\u001b[0;34m\u001b[0m\u001b[0;34m\u001b[0m\u001b[0m\n\u001b[1;32m     46\u001b[0m                 \u001b[0mobservation\u001b[0m\u001b[0;34m=\u001b[0m\u001b[0;34m\"Invalid Format: Missing 'Action:' after 'Thought:'\"\u001b[0m\u001b[0;34m,\u001b[0m\u001b[0;34m\u001b[0m\u001b[0;34m\u001b[0m\u001b[0m\n",
      "\u001b[0;31mOutputParserException\u001b[0m: Could not parse LLM output: `The \"routes\" view is not present in the \"bookings\" table. I don't know the answer.`"
     ]
    }
   ],
   "source": [
    "# langchain is unable to scan db views in provided schema\n",
    "agent_executor.run(\"describe the routes view in the bookings schema\")"
   ]
  },
  {
   "cell_type": "code",
   "execution_count": 33,
   "metadata": {},
   "outputs": [
    {
     "name": "stdout",
     "output_type": "stream",
     "text": [
      "\n",
      "\n",
      "\u001b[1m> Entering new AgentExecutor chain...\u001b[0m\n",
      "\u001b[32;1m\u001b[1;3mAction: sql_db_list_tables\n",
      "Action Input: \"\"\u001b[0m\n",
      "Observation: \u001b[38;5;200m\u001b[1;3maircrafts_data, airports_data, boarding_passes, bookings, flights, seats, ticket_flights, tickets\u001b[0m\n",
      "Thought:\u001b[32;1m\u001b[1;3mI can query the \"flights\" table to get the count of each flight status. I can also query the \"flights\" table to get the minimum and maximum departure times, ordered by the minimum scheduled departure time.\n",
      "Action: sql_db_schema\n",
      "Action Input: flights\u001b[0m\n",
      "Observation: \u001b[33;1m\u001b[1;3m\n",
      "CREATE TABLE flights (\n",
      "\tflight_id SERIAL NOT NULL, \n",
      "\tflight_no CHAR(6) NOT NULL, \n",
      "\tscheduled_departure TIMESTAMP WITH TIME ZONE NOT NULL, \n",
      "\tscheduled_arrival TIMESTAMP WITH TIME ZONE NOT NULL, \n",
      "\tdeparture_airport CHAR(3) NOT NULL, \n",
      "\tarrival_airport CHAR(3) NOT NULL, \n",
      "\tstatus VARCHAR(20) NOT NULL, \n",
      "\taircraft_code CHAR(3) NOT NULL, \n",
      "\tactual_departure TIMESTAMP WITH TIME ZONE, \n",
      "\tactual_arrival TIMESTAMP WITH TIME ZONE, \n",
      "\tCONSTRAINT flights_pkey PRIMARY KEY (flight_id), \n",
      "\tCONSTRAINT flights_aircraft_code_fkey FOREIGN KEY(aircraft_code) REFERENCES aircrafts_data (aircraft_code), \n",
      "\tCONSTRAINT flights_arrival_airport_fkey FOREIGN KEY(arrival_airport) REFERENCES airports_data (airport_code), \n",
      "\tCONSTRAINT flights_departure_airport_fkey FOREIGN KEY(departure_airport) REFERENCES airports_data (airport_code), \n",
      "\tCONSTRAINT flights_flight_no_scheduled_departure_key UNIQUE (flight_no, scheduled_departure), \n",
      "\tCONSTRAINT flights_check CHECK (scheduled_arrival > scheduled_departure), \n",
      "\tCONSTRAINT flights_check1 CHECK (actual_arrival IS NULL OR actual_departure IS NOT NULL AND actual_arrival IS NOT NULL AND actual_arrival > actual_departure), \n",
      "\tCONSTRAINT flights_status_check CHECK (status::text = ANY (ARRAY['On Time'::character varying::text, 'Delayed'::character varying::text, 'Departed'::character varying::text, 'Arrived'::character varying::text, 'Scheduled'::character varying::text, 'Cancelled'::character varying::text]))\n",
      ")\n",
      "\n",
      "/*\n",
      "3 rows from flights table:\n",
      "flight_id\tflight_no\tscheduled_departure\tscheduled_arrival\tdeparture_airport\tarrival_airport\tstatus\taircraft_code\tactual_departure\tactual_arrival\n",
      "182\tPG0402\t2017-09-01 02:25:00-07:00\t2017-09-01 03:20:00-07:00\tDME\tLED\tScheduled\t321\tNone\tNone\n",
      "1996\tPG0335\t2017-08-25 23:30:00-07:00\t2017-08-26 01:35:00-07:00\tDME\tJOK\tScheduled\tCN1\tNone\tNone\n",
      "5979\tPG0384\t2017-08-26 02:10:00-07:00\t2017-08-26 02:40:00-07:00\tDME\tBZK\tScheduled\tSU9\tNone\tNone\n",
      "*/\u001b[0m\n",
      "Thought:\u001b[32;1m\u001b[1;3mI can use the \"flights\" table to get the count of each flight status and also get the minimum and maximum departure times, ordered by the minimum scheduled departure time.\n",
      "Action: sql_db_query\n",
      "Action Input: \"SELECT status, COUNT(*) AS count, MIN(scheduled_departure) AS min_departure, MAX(scheduled_departure) AS max_departure FROM flights GROUP BY status ORDER BY min_departure\"\u001b[0m\n",
      "Observation: \u001b[36;1m\u001b[1;3m[('Arrived', 49235, datetime.datetime(2017, 5, 16, 16, 0, tzinfo=datetime.timezone(datetime.timedelta(days=-1, seconds=61200))), datetime.datetime(2017, 8, 15, 7, 25, tzinfo=datetime.timezone(datetime.timedelta(days=-1, seconds=61200)))), ('Cancelled', 429, datetime.datetime(2017, 5, 17, 9, 10, tzinfo=datetime.timezone(datetime.timedelta(days=-1, seconds=61200))), datetime.datetime(2017, 9, 14, 10, 55, tzinfo=datetime.timezone(datetime.timedelta(days=-1, seconds=61200)))), ('Departed', 58, datetime.datetime(2017, 8, 14, 23, 55, tzinfo=datetime.timezone(datetime.timedelta(days=-1, seconds=61200))), datetime.datetime(2017, 8, 15, 7, 50, tzinfo=datetime.timezone(datetime.timedelta(days=-1, seconds=61200)))), ('Delayed', 41, datetime.datetime(2017, 8, 15, 5, 15, tzinfo=datetime.timezone(datetime.timedelta(days=-1, seconds=61200))), datetime.datetime(2017, 8, 16, 7, 25, tzinfo=datetime.timezone(datetime.timedelta(days=-1, seconds=61200)))), ('On Time', 518, datetime.datetime(2017, 8, 15, 7, 55, tzinfo=datetime.timezone(datetime.timedelta(days=-1, seconds=61200))), datetime.datetime(2017, 8, 16, 8, 0, tzinfo=datetime.timezone(datetime.timedelta(days=-1, seconds=61200)))), ('Scheduled', 15383, datetime.datetime(2017, 8, 16, 8, 5, tzinfo=datetime.timezone(datetime.timedelta(days=-1, seconds=61200))), datetime.datetime(2017, 9, 14, 10, 40, tzinfo=datetime.timezone(datetime.timedelta(days=-1, seconds=61200))))]\u001b[0m\n",
      "Thought:"
     ]
    },
    {
     "ename": "OutputParserException",
     "evalue": "Could not parse LLM output: `I now know the final answer.`",
     "output_type": "error",
     "traceback": [
      "\u001b[0;31m---------------------------------------------------------------------------\u001b[0m",
      "\u001b[0;31mOutputParserException\u001b[0m                     Traceback (most recent call last)",
      "\u001b[0;32m/var/folders/nc/f3zlmfpd7glcc3g67jxvcb1m0000gn/T/ipykernel_21837/390081465.py\u001b[0m in \u001b[0;36m<module>\u001b[0;34m\u001b[0m\n\u001b[0;32m----> 1\u001b[0;31m \u001b[0magent_executor\u001b[0m\u001b[0;34m.\u001b[0m\u001b[0mrun\u001b[0m\u001b[0;34m(\u001b[0m\u001b[0;34m\"Get me the count of each flight status grouped by status and also provide the minimum and maximum departure ordered by the minimum scheduled departure \"\u001b[0m\u001b[0;34m)\u001b[0m\u001b[0;34m\u001b[0m\u001b[0;34m\u001b[0m\u001b[0m\n\u001b[0m",
      "\u001b[0;32m/usr/local/lib/python3.9/site-packages/langchain/chains/base.py\u001b[0m in \u001b[0;36mrun\u001b[0;34m(self, callbacks, tags, metadata, *args, **kwargs)\u001b[0m\n\u001b[1;32m    434\u001b[0m             \u001b[0;32mif\u001b[0m \u001b[0mlen\u001b[0m\u001b[0;34m(\u001b[0m\u001b[0margs\u001b[0m\u001b[0;34m)\u001b[0m \u001b[0;34m!=\u001b[0m \u001b[0;36m1\u001b[0m\u001b[0;34m:\u001b[0m\u001b[0;34m\u001b[0m\u001b[0;34m\u001b[0m\u001b[0m\n\u001b[1;32m    435\u001b[0m                 \u001b[0;32mraise\u001b[0m \u001b[0mValueError\u001b[0m\u001b[0;34m(\u001b[0m\u001b[0;34m\"`run` supports only one positional argument.\"\u001b[0m\u001b[0;34m)\u001b[0m\u001b[0;34m\u001b[0m\u001b[0;34m\u001b[0m\u001b[0m\n\u001b[0;32m--> 436\u001b[0;31m             return self(args[0], callbacks=callbacks, tags=tags, metadata=metadata)[\n\u001b[0m\u001b[1;32m    437\u001b[0m                 \u001b[0m_output_key\u001b[0m\u001b[0;34m\u001b[0m\u001b[0;34m\u001b[0m\u001b[0m\n\u001b[1;32m    438\u001b[0m             ]\n",
      "\u001b[0;32m/usr/local/lib/python3.9/site-packages/langchain/chains/base.py\u001b[0m in \u001b[0;36m__call__\u001b[0;34m(self, inputs, return_only_outputs, callbacks, tags, metadata, include_run_info)\u001b[0m\n\u001b[1;32m    241\u001b[0m         \u001b[0;32mexcept\u001b[0m \u001b[0;34m(\u001b[0m\u001b[0mKeyboardInterrupt\u001b[0m\u001b[0;34m,\u001b[0m \u001b[0mException\u001b[0m\u001b[0;34m)\u001b[0m \u001b[0;32mas\u001b[0m \u001b[0me\u001b[0m\u001b[0;34m:\u001b[0m\u001b[0;34m\u001b[0m\u001b[0;34m\u001b[0m\u001b[0m\n\u001b[1;32m    242\u001b[0m             \u001b[0mrun_manager\u001b[0m\u001b[0;34m.\u001b[0m\u001b[0mon_chain_error\u001b[0m\u001b[0;34m(\u001b[0m\u001b[0me\u001b[0m\u001b[0;34m)\u001b[0m\u001b[0;34m\u001b[0m\u001b[0;34m\u001b[0m\u001b[0m\n\u001b[0;32m--> 243\u001b[0;31m             \u001b[0;32mraise\u001b[0m \u001b[0me\u001b[0m\u001b[0;34m\u001b[0m\u001b[0;34m\u001b[0m\u001b[0m\n\u001b[0m\u001b[1;32m    244\u001b[0m         \u001b[0mrun_manager\u001b[0m\u001b[0;34m.\u001b[0m\u001b[0mon_chain_end\u001b[0m\u001b[0;34m(\u001b[0m\u001b[0moutputs\u001b[0m\u001b[0;34m)\u001b[0m\u001b[0;34m\u001b[0m\u001b[0;34m\u001b[0m\u001b[0m\n\u001b[1;32m    245\u001b[0m         final_outputs: Dict[str, Any] = self.prep_outputs(\n",
      "\u001b[0;32m/usr/local/lib/python3.9/site-packages/langchain/chains/base.py\u001b[0m in \u001b[0;36m__call__\u001b[0;34m(self, inputs, return_only_outputs, callbacks, tags, metadata, include_run_info)\u001b[0m\n\u001b[1;32m    235\u001b[0m         \u001b[0;32mtry\u001b[0m\u001b[0;34m:\u001b[0m\u001b[0;34m\u001b[0m\u001b[0;34m\u001b[0m\u001b[0m\n\u001b[1;32m    236\u001b[0m             outputs = (\n\u001b[0;32m--> 237\u001b[0;31m                 \u001b[0mself\u001b[0m\u001b[0;34m.\u001b[0m\u001b[0m_call\u001b[0m\u001b[0;34m(\u001b[0m\u001b[0minputs\u001b[0m\u001b[0;34m,\u001b[0m \u001b[0mrun_manager\u001b[0m\u001b[0;34m=\u001b[0m\u001b[0mrun_manager\u001b[0m\u001b[0;34m)\u001b[0m\u001b[0;34m\u001b[0m\u001b[0;34m\u001b[0m\u001b[0m\n\u001b[0m\u001b[1;32m    238\u001b[0m                 \u001b[0;32mif\u001b[0m \u001b[0mnew_arg_supported\u001b[0m\u001b[0;34m\u001b[0m\u001b[0;34m\u001b[0m\u001b[0m\n\u001b[1;32m    239\u001b[0m                 \u001b[0;32melse\u001b[0m \u001b[0mself\u001b[0m\u001b[0;34m.\u001b[0m\u001b[0m_call\u001b[0m\u001b[0;34m(\u001b[0m\u001b[0minputs\u001b[0m\u001b[0;34m)\u001b[0m\u001b[0;34m\u001b[0m\u001b[0;34m\u001b[0m\u001b[0m\n",
      "\u001b[0;32m/usr/local/lib/python3.9/site-packages/langchain/agents/agent.py\u001b[0m in \u001b[0;36m_call\u001b[0;34m(self, inputs, run_manager)\u001b[0m\n\u001b[1;32m   1027\u001b[0m         \u001b[0;31m# We now enter the agent loop (until it returns something).\u001b[0m\u001b[0;34m\u001b[0m\u001b[0;34m\u001b[0m\u001b[0;34m\u001b[0m\u001b[0m\n\u001b[1;32m   1028\u001b[0m         \u001b[0;32mwhile\u001b[0m \u001b[0mself\u001b[0m\u001b[0;34m.\u001b[0m\u001b[0m_should_continue\u001b[0m\u001b[0;34m(\u001b[0m\u001b[0miterations\u001b[0m\u001b[0;34m,\u001b[0m \u001b[0mtime_elapsed\u001b[0m\u001b[0;34m)\u001b[0m\u001b[0;34m:\u001b[0m\u001b[0;34m\u001b[0m\u001b[0;34m\u001b[0m\u001b[0m\n\u001b[0;32m-> 1029\u001b[0;31m             next_step_output = self._take_next_step(\n\u001b[0m\u001b[1;32m   1030\u001b[0m                 \u001b[0mname_to_tool_map\u001b[0m\u001b[0;34m,\u001b[0m\u001b[0;34m\u001b[0m\u001b[0;34m\u001b[0m\u001b[0m\n\u001b[1;32m   1031\u001b[0m                 \u001b[0mcolor_mapping\u001b[0m\u001b[0;34m,\u001b[0m\u001b[0;34m\u001b[0m\u001b[0;34m\u001b[0m\u001b[0m\n",
      "\u001b[0;32m/usr/local/lib/python3.9/site-packages/langchain/agents/agent.py\u001b[0m in \u001b[0;36m_take_next_step\u001b[0;34m(self, name_to_tool_map, color_mapping, inputs, intermediate_steps, run_manager)\u001b[0m\n\u001b[1;32m    841\u001b[0m                 \u001b[0mraise_error\u001b[0m \u001b[0;34m=\u001b[0m \u001b[0;32mFalse\u001b[0m\u001b[0;34m\u001b[0m\u001b[0;34m\u001b[0m\u001b[0m\n\u001b[1;32m    842\u001b[0m             \u001b[0;32mif\u001b[0m \u001b[0mraise_error\u001b[0m\u001b[0;34m:\u001b[0m\u001b[0;34m\u001b[0m\u001b[0;34m\u001b[0m\u001b[0m\n\u001b[0;32m--> 843\u001b[0;31m                 \u001b[0;32mraise\u001b[0m \u001b[0me\u001b[0m\u001b[0;34m\u001b[0m\u001b[0;34m\u001b[0m\u001b[0m\n\u001b[0m\u001b[1;32m    844\u001b[0m             \u001b[0mtext\u001b[0m \u001b[0;34m=\u001b[0m \u001b[0mstr\u001b[0m\u001b[0;34m(\u001b[0m\u001b[0me\u001b[0m\u001b[0;34m)\u001b[0m\u001b[0;34m\u001b[0m\u001b[0;34m\u001b[0m\u001b[0m\n\u001b[1;32m    845\u001b[0m             \u001b[0;32mif\u001b[0m \u001b[0misinstance\u001b[0m\u001b[0;34m(\u001b[0m\u001b[0mself\u001b[0m\u001b[0;34m.\u001b[0m\u001b[0mhandle_parsing_errors\u001b[0m\u001b[0;34m,\u001b[0m \u001b[0mbool\u001b[0m\u001b[0;34m)\u001b[0m\u001b[0;34m:\u001b[0m\u001b[0;34m\u001b[0m\u001b[0;34m\u001b[0m\u001b[0m\n",
      "\u001b[0;32m/usr/local/lib/python3.9/site-packages/langchain/agents/agent.py\u001b[0m in \u001b[0;36m_take_next_step\u001b[0;34m(self, name_to_tool_map, color_mapping, inputs, intermediate_steps, run_manager)\u001b[0m\n\u001b[1;32m    830\u001b[0m \u001b[0;34m\u001b[0m\u001b[0m\n\u001b[1;32m    831\u001b[0m             \u001b[0;31m# Call the LLM to see what to do.\u001b[0m\u001b[0;34m\u001b[0m\u001b[0;34m\u001b[0m\u001b[0;34m\u001b[0m\u001b[0m\n\u001b[0;32m--> 832\u001b[0;31m             output = self.agent.plan(\n\u001b[0m\u001b[1;32m    833\u001b[0m                 \u001b[0mintermediate_steps\u001b[0m\u001b[0;34m,\u001b[0m\u001b[0;34m\u001b[0m\u001b[0;34m\u001b[0m\u001b[0m\n\u001b[1;32m    834\u001b[0m                 \u001b[0mcallbacks\u001b[0m\u001b[0;34m=\u001b[0m\u001b[0mrun_manager\u001b[0m\u001b[0;34m.\u001b[0m\u001b[0mget_child\u001b[0m\u001b[0;34m(\u001b[0m\u001b[0;34m)\u001b[0m \u001b[0;32mif\u001b[0m \u001b[0mrun_manager\u001b[0m \u001b[0;32melse\u001b[0m \u001b[0;32mNone\u001b[0m\u001b[0;34m,\u001b[0m\u001b[0;34m\u001b[0m\u001b[0;34m\u001b[0m\u001b[0m\n",
      "\u001b[0;32m/usr/local/lib/python3.9/site-packages/langchain/agents/agent.py\u001b[0m in \u001b[0;36mplan\u001b[0;34m(self, intermediate_steps, callbacks, **kwargs)\u001b[0m\n\u001b[1;32m    455\u001b[0m         \u001b[0mfull_inputs\u001b[0m \u001b[0;34m=\u001b[0m \u001b[0mself\u001b[0m\u001b[0;34m.\u001b[0m\u001b[0mget_full_inputs\u001b[0m\u001b[0;34m(\u001b[0m\u001b[0mintermediate_steps\u001b[0m\u001b[0;34m,\u001b[0m \u001b[0;34m**\u001b[0m\u001b[0mkwargs\u001b[0m\u001b[0;34m)\u001b[0m\u001b[0;34m\u001b[0m\u001b[0;34m\u001b[0m\u001b[0m\n\u001b[1;32m    456\u001b[0m         \u001b[0mfull_output\u001b[0m \u001b[0;34m=\u001b[0m \u001b[0mself\u001b[0m\u001b[0;34m.\u001b[0m\u001b[0mllm_chain\u001b[0m\u001b[0;34m.\u001b[0m\u001b[0mpredict\u001b[0m\u001b[0;34m(\u001b[0m\u001b[0mcallbacks\u001b[0m\u001b[0;34m=\u001b[0m\u001b[0mcallbacks\u001b[0m\u001b[0;34m,\u001b[0m \u001b[0;34m**\u001b[0m\u001b[0mfull_inputs\u001b[0m\u001b[0;34m)\u001b[0m\u001b[0;34m\u001b[0m\u001b[0;34m\u001b[0m\u001b[0m\n\u001b[0;32m--> 457\u001b[0;31m         \u001b[0;32mreturn\u001b[0m \u001b[0mself\u001b[0m\u001b[0;34m.\u001b[0m\u001b[0moutput_parser\u001b[0m\u001b[0;34m.\u001b[0m\u001b[0mparse\u001b[0m\u001b[0;34m(\u001b[0m\u001b[0mfull_output\u001b[0m\u001b[0;34m)\u001b[0m\u001b[0;34m\u001b[0m\u001b[0;34m\u001b[0m\u001b[0m\n\u001b[0m\u001b[1;32m    458\u001b[0m \u001b[0;34m\u001b[0m\u001b[0m\n\u001b[1;32m    459\u001b[0m     async def aplan(\n",
      "\u001b[0;32m/usr/local/lib/python3.9/site-packages/langchain/agents/mrkl/output_parser.py\u001b[0m in \u001b[0;36mparse\u001b[0;34m(self, text)\u001b[0m\n\u001b[1;32m     42\u001b[0m \u001b[0;34m\u001b[0m\u001b[0m\n\u001b[1;32m     43\u001b[0m         \u001b[0;32mif\u001b[0m \u001b[0;32mnot\u001b[0m \u001b[0mre\u001b[0m\u001b[0;34m.\u001b[0m\u001b[0msearch\u001b[0m\u001b[0;34m(\u001b[0m\u001b[0;34mr\"Action\\s*\\d*\\s*:[\\s]*(.*?)\"\u001b[0m\u001b[0;34m,\u001b[0m \u001b[0mtext\u001b[0m\u001b[0;34m,\u001b[0m \u001b[0mre\u001b[0m\u001b[0;34m.\u001b[0m\u001b[0mDOTALL\u001b[0m\u001b[0;34m)\u001b[0m\u001b[0;34m:\u001b[0m\u001b[0;34m\u001b[0m\u001b[0;34m\u001b[0m\u001b[0m\n\u001b[0;32m---> 44\u001b[0;31m             raise OutputParserException(\n\u001b[0m\u001b[1;32m     45\u001b[0m                 \u001b[0;34mf\"Could not parse LLM output: `{text}`\"\u001b[0m\u001b[0;34m,\u001b[0m\u001b[0;34m\u001b[0m\u001b[0;34m\u001b[0m\u001b[0m\n\u001b[1;32m     46\u001b[0m                 \u001b[0mobservation\u001b[0m\u001b[0;34m=\u001b[0m\u001b[0;34m\"Invalid Format: Missing 'Action:' after 'Thought:'\"\u001b[0m\u001b[0;34m,\u001b[0m\u001b[0;34m\u001b[0m\u001b[0;34m\u001b[0m\u001b[0m\n",
      "\u001b[0;31mOutputParserException\u001b[0m: Could not parse LLM output: `I now know the final answer.`"
     ]
    }
   ],
   "source": [
    "agent_executor.run(\"Get me the count of each flight status grouped by status and also provide the minimum and maximum departure ordered by the minimum scheduled departure \")"
   ]
  },
  {
   "cell_type": "code",
   "execution_count": 35,
   "metadata": {},
   "outputs": [
    {
     "name": "stdout",
     "output_type": "stream",
     "text": [
      "\n",
      "\n",
      "\u001b[1m> Entering new AgentExecutor chain...\u001b[0m\n",
      "\u001b[32;1m\u001b[1;3mAction: sql_db_list_tables\n",
      "Action Input: \"\"\u001b[0m\n",
      "Observation: \u001b[38;5;200m\u001b[1;3maircrafts_data, airports_data, boarding_passes, bookings, flights, seats, ticket_flights, tickets\u001b[0m\n",
      "Thought:\u001b[32;1m\u001b[1;3mI can query the \"flights\" table to get the flight status. I should also query the schema of the \"flights\" table to see the available columns.\n",
      "Action: sql_db_schema\n",
      "Action Input: \"flights\"\u001b[0m\n",
      "Observation: \u001b[33;1m\u001b[1;3m\n",
      "CREATE TABLE flights (\n",
      "\tflight_id SERIAL NOT NULL, \n",
      "\tflight_no CHAR(6) NOT NULL, \n",
      "\tscheduled_departure TIMESTAMP WITH TIME ZONE NOT NULL, \n",
      "\tscheduled_arrival TIMESTAMP WITH TIME ZONE NOT NULL, \n",
      "\tdeparture_airport CHAR(3) NOT NULL, \n",
      "\tarrival_airport CHAR(3) NOT NULL, \n",
      "\tstatus VARCHAR(20) NOT NULL, \n",
      "\taircraft_code CHAR(3) NOT NULL, \n",
      "\tactual_departure TIMESTAMP WITH TIME ZONE, \n",
      "\tactual_arrival TIMESTAMP WITH TIME ZONE, \n",
      "\tCONSTRAINT flights_pkey PRIMARY KEY (flight_id), \n",
      "\tCONSTRAINT flights_aircraft_code_fkey FOREIGN KEY(aircraft_code) REFERENCES aircrafts_data (aircraft_code), \n",
      "\tCONSTRAINT flights_arrival_airport_fkey FOREIGN KEY(arrival_airport) REFERENCES airports_data (airport_code), \n",
      "\tCONSTRAINT flights_departure_airport_fkey FOREIGN KEY(departure_airport) REFERENCES airports_data (airport_code), \n",
      "\tCONSTRAINT flights_flight_no_scheduled_departure_key UNIQUE (flight_no, scheduled_departure), \n",
      "\tCONSTRAINT flights_check CHECK (scheduled_arrival > scheduled_departure), \n",
      "\tCONSTRAINT flights_check1 CHECK (actual_arrival IS NULL OR actual_departure IS NOT NULL AND actual_arrival IS NOT NULL AND actual_arrival > actual_departure), \n",
      "\tCONSTRAINT flights_status_check CHECK (status::text = ANY (ARRAY['On Time'::character varying::text, 'Delayed'::character varying::text, 'Departed'::character varying::text, 'Arrived'::character varying::text, 'Scheduled'::character varying::text, 'Cancelled'::character varying::text]))\n",
      ")\n",
      "\n",
      "/*\n",
      "3 rows from flights table:\n",
      "flight_id\tflight_no\tscheduled_departure\tscheduled_arrival\tdeparture_airport\tarrival_airport\tstatus\taircraft_code\tactual_departure\tactual_arrival\n",
      "182\tPG0402\t2017-09-01 02:25:00-07:00\t2017-09-01 03:20:00-07:00\tDME\tLED\tScheduled\t321\tNone\tNone\n",
      "1996\tPG0335\t2017-08-25 23:30:00-07:00\t2017-08-26 01:35:00-07:00\tDME\tJOK\tScheduled\tCN1\tNone\tNone\n",
      "5979\tPG0384\t2017-08-26 02:10:00-07:00\t2017-08-26 02:40:00-07:00\tDME\tBZK\tScheduled\tSU9\tNone\tNone\n",
      "*/\u001b[0m\n",
      "Thought:\u001b[32;1m\u001b[1;3mI can use the \"status\" column from the \"flights\" table to get the flight status. I should write a query to count the number of flights for each status and group them by status.\n",
      "Action: sql_db_query\n",
      "Action Input: \"SELECT status, COUNT(*) FROM flights GROUP BY status\"\u001b[0m\n",
      "Observation: \u001b[36;1m\u001b[1;3m[('Departed', 58), ('Arrived', 49235), ('On Time', 518), ('Cancelled', 429), ('Delayed', 41), ('Scheduled', 15383)]\u001b[0m\n",
      "Thought:\u001b[32;1m\u001b[1;3mI now know the final answer.\n",
      "Final Answer: The count of each flight status grouped by status is as follows:\n",
      "- Departed: 58\n",
      "- Arrived: 49235\n",
      "- On Time: 518\n",
      "- Cancelled: 429\n",
      "- Delayed: 41\n",
      "- Scheduled: 15383\u001b[0m\n",
      "\n",
      "\u001b[1m> Finished chain.\u001b[0m\n"
     ]
    },
    {
     "data": {
      "text/plain": [
       "'The count of each flight status grouped by status is as follows:\\n- Departed: 58\\n- Arrived: 49235\\n- On Time: 518\\n- Cancelled: 429\\n- Delayed: 41\\n- Scheduled: 15383'"
      ]
     },
     "execution_count": 35,
     "metadata": {},
     "output_type": "execute_result"
    }
   ],
   "source": [
    "agent_executor.run(\"Get me the count of each flight status grouped by status. Return only the status and count for each status type\")"
   ]
  }
 ],
 "metadata": {
  "kernelspec": {
   "display_name": "Python 3",
   "language": "python",
   "name": "python3"
  },
  "language_info": {
   "codemirror_mode": {
    "name": "ipython",
    "version": 3
   },
   "file_extension": ".py",
   "mimetype": "text/x-python",
   "name": "python",
   "nbconvert_exporter": "python",
   "pygments_lexer": "ipython3",
   "version": "3.9.4"
  },
  "orig_nbformat": 4
 },
 "nbformat": 4,
 "nbformat_minor": 2
}
