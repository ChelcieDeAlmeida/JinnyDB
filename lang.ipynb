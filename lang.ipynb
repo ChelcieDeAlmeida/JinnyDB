{
 "cells": [
  {
   "cell_type": "code",
   "execution_count": 19,
   "metadata": {},
   "outputs": [],
   "source": [
    "# importing libraries\n",
    "\n",
    "from langchain.agents import initialize_agent\n",
    "from langchain.agents import AgentType\n",
    "from langchain.llms import OpenAI\n",
    "from langchain.agents import *\n",
    "from langchain.sql_database import SQLDatabase\n",
    "from langchain.agents.agent_toolkits import SQLDatabaseToolkit\n",
    "from langchain.agents import AgentExecutor\n",
    "from langchain import OpenAI, SQLDatabaseChain\n",
    "from langchain import PromptTemplate, LLMChain\n",
    "from langchain import HuggingFacePipeline\n",
    "import sqlalchemy as sqla\n",
    "from sqlalchemy import text\n",
    "import pandas as pd\n",
    "import os\n",
    "from dotenv import load_dotenv\n",
    "from langchain.chat_models import ChatOpenAI\n",
    "import huggingface_hub\n",
    "from langchain import HuggingFaceHub\n",
    "from transformers import pipeline\n",
    "\n"
   ]
  },
  {
   "cell_type": "code",
   "execution_count": 21,
   "metadata": {},
   "outputs": [
    {
     "name": "stdout",
     "output_type": "stream",
     "text": [
      "Token will not been saved to git credential helper. Pass `add_to_git_credential=True` if you want to set the git credential as well.\n",
      "Token is valid (permission: read).\n",
      "Your token has been saved to /Users/chelciedealmeida/.cache/huggingface/token\n",
      "Login successful\n"
     ]
    },
    {
     "name": "stderr",
     "output_type": "stream",
     "text": [
      "/usr/local/lib/python3.9/site-packages/langchain/utilities/sql_database.py:111: SAWarning: Did not recognize type 'point' of column 'coordinates'\n",
      "  self._metadata.reflect(\n"
     ]
    }
   ],
   "source": [
    "# connect to datatbase\n",
    "load_dotenv()\n",
    "\n",
    "\n",
    "# Access environment variables\n",
    "DB_HOST = os.getenv(\"DB_HOST\")\n",
    "DB_PORT = os.getenv(\"DB_PORT\")\n",
    "DB_NAME = os.getenv(\"DB_NAME\")\n",
    "DB_NAME2 = os.getenv(\"DB_NAME2\")\n",
    "DB_USER = os.getenv(\"DB_USER\")\n",
    "DB_PASSWORD = os.getenv(\"DB_PASSWORD\")\n",
    "HF_KEY= os.getenv(\"HUGGINGFACEHUB_API_TOKEN\")\n",
    "OPENAI_API_KEY = os.getenv(\"OPENAI_API_KEY\")\n",
    "\n",
    "from huggingface_hub import login\n",
    "login(token=HF_KEY)\n",
    "\n",
    "\n",
    "db = SQLDatabase.from_uri(f\"postgresql+psycopg2://{DB_USER}:{DB_PASSWORD}@{DB_HOST}:{DB_PORT}/{DB_NAME}\")\n",
    "db2 = SQLDatabase.from_uri(f\"postgresql+psycopg2://{DB_USER}:{DB_PASSWORD}@{DB_HOST}:{DB_PORT}/{DB_NAME2}\")\n",
    "engine = sqla.create_engine(f\"postgresql+psycopg2://{DB_USER}:{DB_PASSWORD}@{DB_HOST}:{DB_PORT}/{DB_NAME}\")"
   ]
  },
  {
   "cell_type": "code",
   "execution_count": 22,
   "metadata": {},
   "outputs": [],
   "source": [
    "# Load model directly\n",
    "\n",
    "# llm = ChatOpenAI(model_name=\"gpt-3.5-turbo\")\n",
    "llm = ChatOpenAI(model_name=\"gpt-3.5-turbo\", temperature=0.1)\n",
    "\n",
    "toolkit = SQLDatabaseToolkit(db=db2, llm=llm)\n",
    "agent_executor = create_sql_agent(\n",
    "    llm=llm,\n",
    "    toolkit=toolkit,\n",
    "    verbose=True\n",
    ")\n",
    "\n"
   ]
  },
  {
   "cell_type": "code",
   "execution_count": 23,
   "metadata": {},
   "outputs": [
    {
     "name": "stdout",
     "output_type": "stream",
     "text": [
      "\n",
      "\n",
      "\u001b[1m> Entering new AgentExecutor chain...\u001b[0m\n",
      "\u001b[32;1m\u001b[1;3mAction: sql_db_list_tables\n",
      "Action Input: \"\"\u001b[0m\n",
      "Observation: \u001b[38;5;200m\u001b[1;3maircrafts_data, airports_data, boarding_passes, bookings, flights, seats, ticket_flights, tickets\u001b[0m\n",
      "Thought:\u001b[32;1m\u001b[1;3mThe relevant table for the bookings schema is \"bookings\". I should query the schema of this table.\n",
      "Action: sql_db_schema\n",
      "Action Input: \"bookings\"\u001b[0m\n",
      "Observation: \u001b[33;1m\u001b[1;3m\n",
      "CREATE TABLE bookings (\n",
      "\tbook_ref CHAR(6) NOT NULL, \n",
      "\tbook_date TIMESTAMP WITH TIME ZONE NOT NULL, \n",
      "\ttotal_amount NUMERIC(10, 2) NOT NULL, \n",
      "\tCONSTRAINT bookings_pkey PRIMARY KEY (book_ref)\n",
      ")\n",
      "\n",
      "/*\n",
      "3 rows from bookings table:\n",
      "book_ref\tbook_date\ttotal_amount\n",
      "00000F\t2017-07-04 17:12:00-07:00\t265700.00\n",
      "000012\t2017-07-13 23:02:00-07:00\t37900.00\n",
      "00002D\t2017-05-20 08:45:00-07:00\t114700.00\n",
      "*/\u001b[0m\n",
      "Thought:\u001b[32;1m\u001b[1;3mThe bookings schema consists of the following columns:\n",
      "- book_ref (CHAR(6))\n",
      "- book_date (TIMESTAMP WITH TIME ZONE)\n",
      "- total_amount (NUMERIC(10, 2))\n",
      "\n",
      "The table contains 3 rows with the following data:\n",
      "- book_ref: 00000F, book_date: 2017-07-04 17:12:00-07:00, total_amount: 265700.00\n",
      "- book_ref: 000012, book_date: 2017-07-13 23:02:00-07:00, total_amount: 37900.00\n",
      "- book_ref: 00002D, book_date: 2017-05-20 08:45:00-07:00, total_amount: 114700.00\n",
      "\n",
      "Final Answer: The bookings schema consists of the columns book_ref, book_date, and total_amount.\u001b[0m\n",
      "\n",
      "\u001b[1m> Finished chain.\u001b[0m\n"
     ]
    },
    {
     "data": {
      "text/plain": [
       "'The bookings schema consists of the columns book_ref, book_date, and total_amount.'"
      ]
     },
     "execution_count": 23,
     "metadata": {},
     "output_type": "execute_result"
    }
   ],
   "source": [
    "agent_executor.run(\"describe the bookings schema?\")\n"
   ]
  },
  {
   "cell_type": "code",
   "execution_count": 24,
   "metadata": {},
   "outputs": [
    {
     "name": "stdout",
     "output_type": "stream",
     "text": [
      "\n",
      "\n",
      "\u001b[1m> Entering new AgentExecutor chain...\u001b[0m\n",
      "\u001b[32;1m\u001b[1;3mAction: sql_db_list_tables\n",
      "Action Input: \"\"\u001b[0m\n",
      "Observation: \u001b[38;5;200m\u001b[1;3maircrafts_data, airports_data, boarding_passes, bookings, flights, seats, ticket_flights, tickets\u001b[0m\n",
      "Thought:\u001b[32;1m\u001b[1;3mThe \"flights\" table is available for querying.\n",
      "Action: sql_db_schema\n",
      "Action Input: \"flights\"\u001b[0m\n",
      "Observation: \u001b[33;1m\u001b[1;3m\n",
      "CREATE TABLE flights (\n",
      "\tflight_id SERIAL NOT NULL, \n",
      "\tflight_no CHAR(6) NOT NULL, \n",
      "\tscheduled_departure TIMESTAMP WITH TIME ZONE NOT NULL, \n",
      "\tscheduled_arrival TIMESTAMP WITH TIME ZONE NOT NULL, \n",
      "\tdeparture_airport CHAR(3) NOT NULL, \n",
      "\tarrival_airport CHAR(3) NOT NULL, \n",
      "\tstatus VARCHAR(20) NOT NULL, \n",
      "\taircraft_code CHAR(3) NOT NULL, \n",
      "\tactual_departure TIMESTAMP WITH TIME ZONE, \n",
      "\tactual_arrival TIMESTAMP WITH TIME ZONE, \n",
      "\tCONSTRAINT flights_pkey PRIMARY KEY (flight_id), \n",
      "\tCONSTRAINT flights_aircraft_code_fkey FOREIGN KEY(aircraft_code) REFERENCES aircrafts_data (aircraft_code), \n",
      "\tCONSTRAINT flights_arrival_airport_fkey FOREIGN KEY(arrival_airport) REFERENCES airports_data (airport_code), \n",
      "\tCONSTRAINT flights_departure_airport_fkey FOREIGN KEY(departure_airport) REFERENCES airports_data (airport_code), \n",
      "\tCONSTRAINT flights_flight_no_scheduled_departure_key UNIQUE (flight_no, scheduled_departure), \n",
      "\tCONSTRAINT flights_check CHECK (scheduled_arrival > scheduled_departure), \n",
      "\tCONSTRAINT flights_check1 CHECK (actual_arrival IS NULL OR actual_departure IS NOT NULL AND actual_arrival IS NOT NULL AND actual_arrival > actual_departure), \n",
      "\tCONSTRAINT flights_status_check CHECK (status::text = ANY (ARRAY['On Time'::character varying::text, 'Delayed'::character varying::text, 'Departed'::character varying::text, 'Arrived'::character varying::text, 'Scheduled'::character varying::text, 'Cancelled'::character varying::text]))\n",
      ")\n",
      "\n",
      "/*\n",
      "3 rows from flights table:\n",
      "flight_id\tflight_no\tscheduled_departure\tscheduled_arrival\tdeparture_airport\tarrival_airport\tstatus\taircraft_code\tactual_departure\tactual_arrival\n",
      "182\tPG0402\t2017-09-01 02:25:00-07:00\t2017-09-01 03:20:00-07:00\tDME\tLED\tScheduled\t321\tNone\tNone\n",
      "1996\tPG0335\t2017-08-25 23:30:00-07:00\t2017-08-26 01:35:00-07:00\tDME\tJOK\tScheduled\tCN1\tNone\tNone\n",
      "5979\tPG0384\t2017-08-26 02:10:00-07:00\t2017-08-26 02:40:00-07:00\tDME\tBZK\tScheduled\tSU9\tNone\tNone\n",
      "*/\u001b[0m\n",
      "Thought:\u001b[32;1m\u001b[1;3mThe flights table has the following columns: flight_id, flight_no, scheduled_departure, scheduled_arrival, departure_airport, arrival_airport, status, aircraft_code, actual_departure, and actual_arrival. It also has several constraints and foreign key references to other tables.\n",
      "Final Answer: The flights table has the following columns: flight_id, flight_no, scheduled_departure, scheduled_arrival, departure_airport, arrival_airport, status, aircraft_code, actual_departure, and actual_arrival.\u001b[0m\n",
      "\n",
      "\u001b[1m> Finished chain.\u001b[0m\n"
     ]
    },
    {
     "data": {
      "text/plain": [
       "'The flights table has the following columns: flight_id, flight_no, scheduled_departure, scheduled_arrival, departure_airport, arrival_airport, status, aircraft_code, actual_departure, and actual_arrival.'"
      ]
     },
     "execution_count": 24,
     "metadata": {},
     "output_type": "execute_result"
    }
   ],
   "source": [
    "agent_executor.run(\"describe the flights table?\")"
   ]
  },
  {
   "cell_type": "code",
   "execution_count": 25,
   "metadata": {},
   "outputs": [
    {
     "name": "stdout",
     "output_type": "stream",
     "text": [
      "\n",
      "\n",
      "\u001b[1m> Entering new AgentExecutor chain...\u001b[0m\n",
      "\u001b[32;1m\u001b[1;3mAction: sql_db_list_tables\n",
      "Action Input: \"\"\u001b[0m\n",
      "Observation: \u001b[38;5;200m\u001b[1;3maircrafts_data, airports_data, boarding_passes, bookings, flights, seats, ticket_flights, tickets\u001b[0m\n",
      "Thought:\u001b[32;1m\u001b[1;3mI can query the \"bookings\" table to get the number of rows.\n",
      "Action: sql_db_query\n",
      "Action Input: \"SELECT COUNT(*) FROM bookings\"\u001b[0m\n",
      "Observation: \u001b[36;1m\u001b[1;3m[(593433,)]\u001b[0m\n",
      "Thought:\u001b[32;1m\u001b[1;3mI now know the final answer.\n",
      "Final Answer: There are 593,433 rows in the bookings table.\u001b[0m\n",
      "\n",
      "\u001b[1m> Finished chain.\u001b[0m\n"
     ]
    },
    {
     "data": {
      "text/plain": [
       "'There are 593,433 rows in the bookings table.'"
      ]
     },
     "execution_count": 25,
     "metadata": {},
     "output_type": "execute_result"
    }
   ],
   "source": [
    "agent_executor.run(\"How many rows are in the bookings table?\")"
   ]
  },
  {
   "cell_type": "code",
   "execution_count": 26,
   "metadata": {},
   "outputs": [
    {
     "name": "stdout",
     "output_type": "stream",
     "text": [
      "\n",
      "\n",
      "\u001b[1m> Entering new AgentExecutor chain...\u001b[0m\n",
      "\u001b[32;1m\u001b[1;3mAction: sql_db_list_tables\n",
      "Action Input: \"\"\u001b[0m\n",
      "Observation: \u001b[38;5;200m\u001b[1;3maircrafts_data, airports_data, boarding_passes, bookings, flights, seats, ticket_flights, tickets\u001b[0m\n",
      "Thought:\u001b[32;1m\u001b[1;3mI can query the aircrafts_data table to count the number of rows.\n",
      "Action: sql_db_query\n",
      "Action Input: \"SELECT COUNT(*) FROM aircrafts_data\"\u001b[0m\n",
      "Observation: \u001b[36;1m\u001b[1;3m[(9,)]\u001b[0m\n",
      "Thought:\u001b[32;1m\u001b[1;3mI now know the final answer.\n",
      "Final Answer: There are 9 rows in the aircrafts_data table.\u001b[0m\n",
      "\n",
      "\u001b[1m> Finished chain.\u001b[0m\n"
     ]
    },
    {
     "data": {
      "text/plain": [
       "'There are 9 rows in the aircrafts_data table.'"
      ]
     },
     "execution_count": 26,
     "metadata": {},
     "output_type": "execute_result"
    }
   ],
   "source": [
    "agent_executor.run(\"How many rows are in the aircrafts_data table?\")"
   ]
  }
 ],
 "metadata": {
  "kernelspec": {
   "display_name": "Python 3",
   "language": "python",
   "name": "python3"
  },
  "language_info": {
   "codemirror_mode": {
    "name": "ipython",
    "version": 3
   },
   "file_extension": ".py",
   "mimetype": "text/x-python",
   "name": "python",
   "nbconvert_exporter": "python",
   "pygments_lexer": "ipython3",
   "version": "3.9.4"
  },
  "orig_nbformat": 4
 },
 "nbformat": 4,
 "nbformat_minor": 2
}
